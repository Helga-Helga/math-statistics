{
 "cells": [
  {
   "cell_type": "markdown",
   "metadata": {},
   "source": [
    "# Лабораторная работа №1"
   ]
  },
  {
   "cell_type": "markdown",
   "metadata": {},
   "source": [
    "$\\left\\{ \\omega_i \\right\\}$ --- равномерно распределённые на $ \\left[ 0, 1 \\right] $.\n",
    "\n",
    "$N \\left( 0, 1 \\right) $ можно генерировать из последовательности $\\left\\{ \\omega_i \\right\\} $:\n",
    "$ \\xi_1 = \\sqrt{-2 \\ln \\omega_1} \\cdot \\sin \\left( 2 \\pi \\cdot \\omega_2 \\right) ,\n",
    "\\xi_2 = \\sqrt{-2 \\ln \\omega_1} \\cdot \\cos \\left( 2 \\pi \\cdot \\omega_2 \\right) $ --- независимы.\n",
    "\n",
    "Пусть наблюдается выборка $ \\vec{X} = \\left( X_1, \\dotsc, X_n \\right)$, где $X_i \\sim N \\left( 0, 1 \\right) $.\n",
    "\n",
    "Расчёты будем вести при $\\gamma = 0.05$.\n",
    "Это означает, что уровень доверия --- $0.95, z_{jamma} = 1.96$ (для нормального распределения).\n",
    "\n",
    "$n = 100, 1000, 10000, 100000$."
   ]
  },
  {
   "cell_type": "code",
   "execution_count": 1,
   "metadata": {
    "collapsed": true
   },
   "outputs": [],
   "source": [
    "from numpy.random import normal, uniform\n",
    "from numpy import mean, std, log, exp, array\n",
    "from scipy.stats import norm, t, chi2\n",
    "from math import sqrt\n",
    "from statsmodels.stats.weightstats import _zconfint_generic, _tconfint_generic"
   ]
  },
  {
   "cell_type": "code",
   "execution_count": 2,
   "metadata": {
    "collapsed": true
   },
   "outputs": [],
   "source": [
    "a = 0\n",
    "sigma = 1\n",
    "gamma = 0.05"
   ]
  },
  {
   "cell_type": "markdown",
   "metadata": {},
   "source": [
    "## Задание 1\n",
    "Определить скорость сходимости.\n",
    "Действительно ли она $\\frac{1}{\\sqrt{n}}$?\n",
    "Всегда ли доверительный интервал накрывает $0$?\n",
    "Строим доверительный интервал в следующих случаях:"
   ]
  },
  {
   "cell_type": "markdown",
   "metadata": {},
   "source": [
    "### а)\n",
    "для математического ожидания $a$, когда дисперсия известна ($=1$)."
   ]
  },
  {
   "cell_type": "markdown",
   "metadata": {},
   "source": [
    "Рассмотрим случай нормально распределённой генеральной совокупности, то есть допустим,\n",
    "что $ \\xi \\sim N \\left( a, \\sigma^2 \\right)$.\n",
    "\n",
    "**Лемма 1** Введём обозначения для среднего арифметического\n",
    "$$\\hat{a}_n = \\frac{1}{n} \\sum \\limits_{i=1}^n X_i$$\n",
    "и для выборочной дисперсии\n",
    "$$\\hat{\\sigma}_n^2 = \\frac{1}{n} \\sum \\limits_{i=1}^n \\left( X_i - \\hat{a}_n \\right)^2.$$\n",
    "Тогда\n",
    "$$\\hat{a}_n \\sim N \\left( a, \\frac{\\sigma^2}{n}\\right).$$\n",
    "Если случайные величины нормально распределены, то их сумма нормально распределена.\n",
    "\n",
    "Введём\n",
    "$$\\hat{U}_n = \\frac{\\hat{\\sigma}_n^2}{\\sigma^2} \\cdot n.$$\n",
    "Эта случайная величина независима с $\\hat{a}_n, \\hat{U}_n \\sim \\chi^2$ с $n-1$ степенями свободы.\n",
    "\n",
    "Плотность $\\chi^2$ распределения с $n$ степенями свободы:\n",
    "$$\n",
    "t_n \\left( u \\right) =\n",
    "\\frac{1}{2^{\\frac{n}{2}} \\cdot \\Gamma \\left( \\frac{n}{2}\\right)} \\cdot u^{\\frac{n}{2} - 1} \\cdot e^{-\\frac{u}{2}},\n",
    "u \\geq 0,\n",
    "\\Gamma \\left( \\alpha \\right) = \\int \\limits_0^{\\infty } u^{\\alpha - 1} \\cdot e^{-u} du.\n",
    "$$\n",
    "\n",
    "Используем первый пункт леммы 1, или\n",
    "$$\\hat{V}_n = \\frac{\\hat{a}_n - a}{\\sigma} \\cdot \\sqrt{n} \\sim N \\left( 0, 1 \\right).$$\n",
    "Это означает, что $P \\left\\{ \\left| \\hat{V}_n \\right| < z\\right\\} = 2 \\Phi \\left( z \\right) = 1 - \\gamma,$\n",
    "где\n",
    "$$\\Phi \\left( z \\right) = \\frac{1}{\\sqrt{2\\pi}} \\int \\limits_0^z e^{-\\frac{u^2}{2}} du, z > 0.$$\n",
    "Это функция Лапласа.\n",
    "\n",
    "Из уравнения $2\\Phi \\left( z \\right) = 1 - \\gamma$ по таблицам находим $z_{\\gamma}$.\n",
    "Тогда $P \\left\\{ \\left| \\hat{V}_n \\right| < z_{\\gamma }\\right\\} = 1 - \\gamma$.\n",
    "\n",
    "Решаем уравнение относительно $a$.\n",
    "Получим симметрический доверительный интервал\n",
    "$$\\hat{a}_n - \\frac{z_{\\gamma} \\cdot \\sigma}{\\sqrt{n}} <\n",
    "a <\n",
    "\\hat{a}_n + \\frac{z_{\\gamma} \\cdot \\sigma}{\\sqrt{n}}.$$\n",
    "\n",
    "Можем не попасть в этот интервал с вероятностью $\\gamma$.\n",
    "\n",
    "Абсолютная погрешность:\n",
    "$$\\frac{z_{\\gamma} \\cdot \\sigma}{\\sqrt{n}}.$$"
   ]
  },
  {
   "cell_type": "code",
   "execution_count": 3,
   "metadata": {
    "collapsed": true
   },
   "outputs": [],
   "source": [
    "def mean_interval_known_sigma(n):\n",
    "    X = normal(a, sigma, n)\n",
    "    a_n = X.mean()\n",
    "    z = norm.ppf(1 - gamma / 2.)\n",
    "    left = a_n - z * sigma / sqrt(n)\n",
    "    right = a_n + z * sigma / sqrt(n)\n",
    "    length = right - left\n",
    "    print \"mean 95%% confidence interval (theory), n =\", n, (left, right)\n",
    "    print \"mean 95%% confidence interval (python), n =\", n, _zconfint_generic(a_n, sigma / sqrt(n), gamma, 'two-sided')\n",
    "    print \"interval length:\", length\n",
    "    return length"
   ]
  },
  {
   "cell_type": "code",
   "execution_count": 4,
   "metadata": {},
   "outputs": [
    {
     "name": "stdout",
     "output_type": "stream",
     "text": [
      "mean 95%% confidence interval (theory), n = 100 (-0.22586621174713772, 0.16612658516087309)\n",
      "mean 95%% confidence interval (python), n = 100 (-0.22586621174713772, 0.16612658516087309)\n",
      "interval length: 0.391992796908\n"
     ]
    }
   ],
   "source": [
    "l1 = mean_interval_known_sigma(100)"
   ]
  },
  {
   "cell_type": "code",
   "execution_count": 5,
   "metadata": {},
   "outputs": [
    {
     "name": "stdout",
     "output_type": "stream",
     "text": [
      "mean 95%% confidence interval (theory), n = 1000 (-0.10055534179565426, 0.023403664665258062)\n",
      "mean 95%% confidence interval (python), n = 1000 (-0.10055534179565426, 0.023403664665258055)\n",
      "interval length: 0.123959006461\n",
      "length ratio: 0.316227766017\n",
      "1 / sqrt(n2 / n1): 0.316227766017\n"
     ]
    }
   ],
   "source": [
    "l2 = mean_interval_known_sigma(1000)\n",
    "print \"length ratio:\", l2 / l1\n",
    "print \"1 / sqrt(n2 / n1):\", 1 / sqrt(10)"
   ]
  },
  {
   "cell_type": "code",
   "execution_count": 6,
   "metadata": {},
   "outputs": [
    {
     "name": "stdout",
     "output_type": "stream",
     "text": [
      "mean 95%% confidence interval (theory), n = 10000 (0.0053204808787135557, 0.044519760569514635)\n",
      "mean 95%% confidence interval (python), n = 10000 (0.0053204808787135557, 0.044519760569514635)\n",
      "interval length: 0.0391992796908\n",
      "length ratio: 0.316227766017\n",
      "1 / sqrt(n3 / n2): 0.316227766017\n"
     ]
    }
   ],
   "source": [
    "l3 = mean_interval_known_sigma(10000)\n",
    "print \"length ratio:\", l3 / l2\n",
    "print \"1 / sqrt(n3 / n2):\", 1 / sqrt(10)"
   ]
  },
  {
   "cell_type": "code",
   "execution_count": 7,
   "metadata": {},
   "outputs": [
    {
     "name": "stdout",
     "output_type": "stream",
     "text": [
      "mean 95%% confidence interval (theory), n = 100000 (-0.0073890186655487973, 0.0050068819805424332)\n",
      "mean 95%% confidence interval (python), n = 100000 (-0.0073890186655487973, 0.0050068819805424332)\n",
      "interval length: 0.0123959006461\n",
      "length ratio: 0.316227766017\n",
      "1 / sqrt(n4 / n3): 0.316227766017\n"
     ]
    }
   ],
   "source": [
    "l4 = mean_interval_known_sigma(100000)\n",
    "print \"length ratio:\", l4 / l3\n",
    "print \"1 / sqrt(n4 / n3):\", 1 / sqrt(10)"
   ]
  },
  {
   "cell_type": "markdown",
   "metadata": {},
   "source": [
    "При всех $n$ доверительный интервал накрывает $0$.\n",
    "Скорость сходимости доверительного интервала к истинному значению математического ожидания $a = 0$ равна\n",
    "$1 / \\sqrt{n}$.\n",
    "Результаты,\n",
    "полученные с помощью теоретических выкладок и функции `_zconfint_generic(mean, std_mean, gamma, alternative)`\n",
    "совпадают."
   ]
  },
  {
   "cell_type": "markdown",
   "metadata": {},
   "source": [
    "### б)\n",
    "для математического ожидания $a$, когда дисперсия неизвестна."
   ]
  },
  {
   "cell_type": "markdown",
   "metadata": {},
   "source": [
    "**Лемма 2** Определим\n",
    "\\begin{equation}\n",
    "\\hat{V}_n = \\frac{\\hat{a}_n - a}{ \\sigma} \\cdot \\sqrt{n}.\n",
    "\\end{equation}\n",
    "Тогда\n",
    "\\begin{equation}\n",
    "\\hat{Z}_n = \\sqrt{n - 1} \\cdot \\frac{\\hat{V}_n}{\\sqrt{\\hat{U}_n}}\n",
    "\\end{equation}\n",
    "имеет распределение Стьюдента с $n-1$ степенью свободы.\n",
    "Плотность распределения:\n",
    "\\begin{equation}\n",
    "S_n \\left( u \\right) =\n",
    "\\frac{\\Gamma \\left( \\frac{n + 1}{2}\\right)}{\\sqrt{n \\cdot \\pi} \\cdot \\Gamma \\left( \\frac{n}{2}\\right)} \\cdot\n",
    "\\left( 1 + \\frac{u^2}{n} \\right)^{-\\frac{n+1}{2}},\n",
    "-\\infty < u < +\\infty.\n",
    "\\end{equation}\n",
    "\n",
    "Используем лемму 2\n",
    "\\begin{equation}\n",
    "\\hat{Z}_n =\n",
    "\\sqrt{n-1} \\cdot \\frac{\\sqrt{n} \\cdot\n",
    "\\left( \\hat{a}_n - a\\right) \\cdot \\sigma}{\\sigma \\cdot \\sqrt{n} \\cdot \\hat{\\sigma}_n} =\n",
    "\\sqrt{n - 1} \\cdot \\frac{\\hat{a}_n - a}{\\hat{\\sigma}_n}.\n",
    "\\end{equation}\n",
    "Получается, что\n",
    "\\begin{equation}\n",
    "P \\left\\{ \\left| \\hat{Z}_n\\right| < z \\right\\} = 2 \\int \\limits_0^1 S_{n-1} \\left( u \\right) du = 1 - \\gamma.\n",
    "\\end{equation}\n",
    "Решаем:\n",
    "\\begin{equation}\n",
    "\\left| \\hat{Z}_n\\right| < z_{\\gamma} \\Rightarrow\n",
    "\\hat{a}_n - \\frac{z_{\\gamma} \\cdot \\hat{\\sigma}_n}{\\sqrt{n-1}} <\n",
    "a <\n",
    "\\hat{a}_n + \\frac{z_{\\gamma} \\cdot \\hat{\\sigma}_n}{\\sqrt{n-1}}.\n",
    "\\end{equation}\n",
    "Отличия:\n",
    "- дисперсию $\\sigma$ заменяем на оценку $\\hat{\\sigma}_n$;\n",
    "- $\\sqrt{n} \\to \\sqrt{n-1}$;\n",
    "- $N \\to S_{n-1}$, то есть $z_{gamma}$ вычисляется по другим таблицам."
   ]
  },
  {
   "cell_type": "code",
   "execution_count": 8,
   "metadata": {
    "collapsed": true
   },
   "outputs": [],
   "source": [
    "def mean_interval_unknown_sigma(n):\n",
    "    X = normal(a, sigma, n)\n",
    "    a_n = X.mean()\n",
    "    sigma_n = sqrt(((X - a_n) ** 2).mean())\n",
    "    z = t.ppf(1 - gamma / 2., n - 1)\n",
    "    left = a_n - z * sigma_n / sqrt(n - 1)\n",
    "    right = a_n + z * sigma_n / sqrt(n - 1)\n",
    "    length = right - left\n",
    "    print \"mean 95%% confidence interval (theory), n =\", n, (left, right)\n",
    "    print \"mean 95%% confidence interval (python), n =\", n,  _tconfint_generic(a_n, sigma_n, n - 1, gamma, 'two-sided')\n",
    "    print \"interval length:\", length\n",
    "    return length"
   ]
  },
  {
   "cell_type": "code",
   "execution_count": 9,
   "metadata": {},
   "outputs": [
    {
     "name": "stdout",
     "output_type": "stream",
     "text": [
      "mean 95%% confidence interval (theory), n = 100 (-0.19722043090979052, 0.17294090202423873)\n",
      "mean 95%% confidence interval (python), n = 100 (-1.8536691443027762, 1.8293896154172244)\n",
      "interval length: 0.370161332934\n"
     ]
    }
   ],
   "source": [
    "l1 = mean_interval_unknown_sigma(100)"
   ]
  },
  {
   "cell_type": "code",
   "execution_count": 10,
   "metadata": {},
   "outputs": [
    {
     "name": "stdout",
     "output_type": "stream",
     "text": [
      "mean 95%% confidence interval (theory), n = 1000 (-0.068099668682589348, 0.052758792220641296)\n",
      "mean 95%% confidence interval (python), n = 1000 (-1.9176547839996658, 1.9023139075377178)\n",
      "interval length: 0.120858460903\n",
      "length ratio: 0.326502122589\n",
      "1 / sqrt(n2 / n1): 0.316227766017\n"
     ]
    }
   ],
   "source": [
    "l2 = mean_interval_unknown_sigma(1000)\n",
    "print \"length ratio:\", l2 / l1\n",
    "print \"1 / sqrt(n2 / n1):\", 1 / sqrt(10)"
   ]
  },
  {
   "cell_type": "code",
   "execution_count": 11,
   "metadata": {},
   "outputs": [
    {
     "name": "stdout",
     "output_type": "stream",
     "text": [
      "mean 95%% confidence interval (theory), n = 10000 (-0.017118923895262688, 0.021841870634974159)\n",
      "mean 95%% confidence interval (python), n = 10000 (-1.9455808487204898, 1.9503037954602014)\n",
      "interval length: 0.0389607945302\n",
      "length ratio: 0.322367124644\n",
      "1 / sqrt(n3 / n2): 0.316227766017\n"
     ]
    }
   ],
   "source": [
    "l3 = mean_interval_unknown_sigma(10000)\n",
    "print \"length ratio:\", l3 / l2\n",
    "print \"1 / sqrt(n3 / n2):\", 1 / sqrt(10)"
   ]
  },
  {
   "cell_type": "code",
   "execution_count": 12,
   "metadata": {},
   "outputs": [
    {
     "name": "stdout",
     "output_type": "stream",
     "text": [
      "mean 95%% confidence interval (theory), n = 100000 (-0.0074450725428442284, 0.0049623994501167765)\n",
      "mean 95%% confidence interval (python), n = 100000 (-1.9630251026792367, 1.9605424295865093)\n",
      "interval length: 0.012407471993\n",
      "length ratio: 0.318460445752\n",
      "1 / sqrt(n4 / n3): 0.316227766017\n"
     ]
    }
   ],
   "source": [
    "l4 = mean_interval_unknown_sigma(100000)\n",
    "print \"length ratio:\", l4 / l3\n",
    "print \"1 / sqrt(n4 / n3):\", 1 / sqrt(10)"
   ]
  },
  {
   "cell_type": "markdown",
   "metadata": {},
   "source": [
    "Скорость сходимости доверительного интервала к истинному значению математического ожидания $a = 0$ равна\n",
    "$\\frac{1}{\\sqrt{n}}$.\n",
    "Доверительный интервал всегда накрывает $0$.\n",
    "В данном случае теоретические результаты отличаются от результатов,\n",
    "полученных с помощью функции `_tconfint_generic(mean, std_mean, dof, gamma, alternative)` отличаются,\n",
    "так как в функции нет деления на $\\sqrt{n-1}$."
   ]
  },
  {
   "cell_type": "markdown",
   "metadata": {},
   "source": [
    "### в)\n",
    "для математического ожидания $a$, когда распределение не $N \\left( 0, 1 \\right)$, то есть мы не знаем,\n",
    "что распределение нормальное.\n",
    "Просто есть последовательность $\\vec{X}$."
   ]
  },
  {
   "cell_type": "markdown",
   "metadata": {},
   "source": [
    "Считаем, что $M \\xi = a, D \\xi < \\infty $.\n",
    "\n",
    "Пользуемся центральной предельной теоремой.\n",
    "\n",
    "Пусть несмещённая оценка дисперсии (выборочная несмещённая дисперсия)\n",
    "\\begin{equation}\n",
    "\\hat{\\sigma}_n = \\frac{1}{n - 1} \\cdot \\left( \\sum \\limits_{i = 1}^n X_i^2 - \\frac{1}{n} \\cdot \\hat{a}_n^2 \\right).\n",
    "\\end{equation}\n",
    "Согласно центральной предельной теореме выходит\n",
    "\\begin{equation}\n",
    "P \\left\\{ \\sqrt{n} \\cdot \\frac{\\left| \\hat{a}_n - a \\right|}{\\sigma} < z \\right\\}\n",
    "\\overset{n \\to \\infty }{\\to} \\Phi \\left( z \\right) =\n",
    "1 - \\gamma.\n",
    "\\end{equation}\n",
    "В этом случае будем строить ассимптотические доверительные интервалы\n",
    "\\begin{equation}\n",
    "\\hat{a}_n - \\frac{z_{\\gamma} \\cdot \\sigma}{\\sqrt{n}} < a < \\hat{a}_n + \\frac{z_{\\gamma} \\cdot \\sigma}{ \\sqrt{n}}.\n",
    "\\end{equation}\n",
    "Проблема в том, что $\\sigma$ неизвестно.\n",
    "На практике заменяют $\\sigma$ на $\\hat{\\sigma}_n$, то есть доверительный интервал строится таким образом\n",
    "\\begin{equation}\n",
    "\\hat{a}_n = \\frac{z_{\\gamma} \\cdot \\hat{\\sigma}_n}{\\sqrt{n}} <\n",
    "a <\n",
    "\\hat{a}_n + \\frac{z_{\\gamma} \\cdot \\hat{\\sigma}_n}{\\sqrt{n}},\n",
    "\\end{equation}\n",
    "где $z_{\\gamma}$ находится через функцию Лапласа."
   ]
  },
  {
   "cell_type": "code",
   "execution_count": 13,
   "metadata": {},
   "outputs": [],
   "source": [
    "def mean_interval_unknown_distribution(n):\n",
    "    X = normal(a, sigma, n)\n",
    "    a_n = X.mean()\n",
    "    z = norm.ppf(1 - gamma)\n",
    "    left = a_n - z * sigma / sqrt(n)\n",
    "    right = a_n + z * sigma / sqrt(n)\n",
    "    length = right - left\n",
    "    print \"mean 95%% confidence interval, n =\", n, (left, right)\n",
    "    print \"interval length:\", length\n",
    "    return length"
   ]
  },
  {
   "cell_type": "code",
   "execution_count": 14,
   "metadata": {},
   "outputs": [
    {
     "name": "stdout",
     "output_type": "stream",
     "text": [
      "mean 95%% confidence interval, n = 100 (0.027462901682638069, 0.35643362707293247)\n",
      "interval length: 0.32897072539\n"
     ]
    }
   ],
   "source": [
    "l1 = mean_interval_unknown_distribution(100)"
   ]
  },
  {
   "cell_type": "code",
   "execution_count": 15,
   "metadata": {},
   "outputs": [
    {
     "name": "stdout",
     "output_type": "stream",
     "text": [
      "mean 95%% confidence interval, n = 1000 (-0.039023972257217397, 0.065005705317894069)\n",
      "interval length: 0.104029677575\n",
      "length ratio: 0.316227766017\n",
      "1 / sqrt(n2 / n1): 0.316227766017\n"
     ]
    }
   ],
   "source": [
    "l2 = mean_interval_unknown_distribution(1000)\n",
    "print \"length ratio:\", l2 / l1\n",
    "print \"1 / sqrt(n2 / n1):\", 1 / sqrt(10)"
   ]
  },
  {
   "cell_type": "code",
   "execution_count": 16,
   "metadata": {},
   "outputs": [
    {
     "name": "stdout",
     "output_type": "stream",
     "text": [
      "mean 95%% confidence interval, n = 10000 (-0.0074752765335276208, 0.025421796005501825)\n",
      "interval length: 0.032897072539\n",
      "length ratio: 0.316227766017\n",
      "1 / sqrt(n3 / n2): 0.316227766017\n"
     ]
    }
   ],
   "source": [
    "l3 = mean_interval_unknown_distribution(10000)\n",
    "print \"length ratio:\", l3 / l2\n",
    "print \"1 / sqrt(n3 / n2):\", 1 / sqrt(10)"
   ]
  },
  {
   "cell_type": "code",
   "execution_count": 17,
   "metadata": {},
   "outputs": [
    {
     "name": "stdout",
     "output_type": "stream",
     "text": [
      "mean 95%% confidence interval, n = 100000 (-0.003090645935919172, 0.0073123218215919751)\n",
      "interval length: 0.0104029677575\n",
      "length ratio: 0.316227766017\n",
      "1 / sqrt(n4 / n3): 0.316227766017\n"
     ]
    }
   ],
   "source": [
    "l4 = mean_interval_unknown_distribution(100000)\n",
    "print \"length ratio:\", l4 / l3\n",
    "print \"1 / sqrt(n4 / n3):\", 1 / sqrt(10)"
   ]
  },
  {
   "cell_type": "markdown",
   "metadata": {},
   "source": [
    "Скорость сходимости доверительного интервала к истинному значению математического ожидания $a = 0$ равна\n",
    "$\\frac{1}{\\sqrt{n}}$.\n",
    "Доверительный интервал всегда накрывает $0$."
   ]
  },
  {
   "cell_type": "markdown",
   "metadata": {},
   "source": [
    "## Задание 2\n",
    "При заданных $n$ строим доверительный интервал для дисперсии $\\sigma^2 = 1$ (в допущении $N \\left( 0, 1 \\right)$).\n",
    "Действительно ли он сужается и с какой скоростью?\n",
    "Действительно ли этот интервал накрывает единицу?"
   ]
  },
  {
   "cell_type": "markdown",
   "metadata": {},
   "source": [
    "Используем вторую часть первой леммы.\n",
    "\n",
    "В данном случае дисперсия принимает значения только больше нуля, $\\chi^2$ распределение не симметрично.\n",
    "Оно имеет вид:\n",
    "![chi-squared distribution](chi-squared.jpg)\n",
    "Нужно строить такой доверительный интервал,\n",
    "чтобы расстояние между точками $z_{\\gamma}^{\\left( 1 \\right)}$ и $z_{\\gamma}^{\\left( 2 \\right)}$ было маленьким:\n",
    "\\begin{equation}\n",
    "\\int \\limits_0^{z_{\\gamma}^{\\left( 1 \\right)}} t_{n-1} \\left( u \\right) du = \\frac{\\gamma}{2}, \n",
    "\\int \\limits_{z_{\\gamma}^{\\left( 2 \\right)}} t_{n - 1} \\left( u \\right) du = \\frac{\\gamma}{2}.\n",
    "\\end{equation}\n",
    "При заданном $\\gamma$ из этих уравнений находим $z_{\\gamma}^{\\left( 1 \\right) }$ и $z_{\\gamma}^{\\left( 2 \\right)}$.\n",
    "Получается,\n",
    "что $P \\left\\{ z_{\\gamma}^{\\left( 1 \\right) } < \\hat{U}_n < z_{\\gamma}^{\\left( 2 \\right) } \\right\\} = 1 - \\gamma$.\n",
    "\n",
    "Доверительный интервал для дисперсии\n",
    "\\begin{equation}\n",
    "\\frac{\\left( n - 1 \\right) \\cdot \\hat{\\sigma}_n^2}{z_{\\gamma n}^{\\left( 2 \\right)}} <\n",
    "\\sigma^2 <\n",
    "\\frac{\\left( n - 1 \\right) \\cdot \\hat{\\sigma}_n^2}{z_{\\gamma n}^{\\left( 2 \\right) }}.\n",
    "\\end{equation}\n",
    "Когда увеличиваем $n$, увеличивабтся $z_{\\gamma n}^{\\left( i \\right) }$.\n",
    "Сам интервал сужается."
   ]
  },
  {
   "cell_type": "code",
   "execution_count": 18,
   "metadata": {
    "collapsed": true
   },
   "outputs": [],
   "source": [
    "def variance_interval(n):\n",
    "    X = normal(a, sigma, n)\n",
    "    a_n = X.mean()\n",
    "    sigma_n = (sum(X ** 2) - mean(a_n ** 2)) / (n - 1)\n",
    "    z1 = chi2.ppf(gamma / 2, n - 1)\n",
    "    z2 = chi2.ppf(1 - gamma / 2, n - 1)\n",
    "    left = (n - 1) * sigma_n / z2\n",
    "    right = (n - 1) * sigma_n / z1\n",
    "    length = right - left\n",
    "    print \"variance 95%% confidence interval, n =\", n, (left, right)\n",
    "    print \"interval length:\", length\n",
    "    return length"
   ]
  },
  {
   "cell_type": "code",
   "execution_count": 19,
   "metadata": {},
   "outputs": [
    {
     "name": "stdout",
     "output_type": "stream",
     "text": [
      "variance 95%% confidence interval, n = 100 (0.84174142333469648, 1.4735075768606514)\n",
      "interval length: 0.631766153526\n"
     ]
    }
   ],
   "source": [
    "l1 = variance_interval(100)"
   ]
  },
  {
   "cell_type": "code",
   "execution_count": 20,
   "metadata": {},
   "outputs": [
    {
     "name": "stdout",
     "output_type": "stream",
     "text": [
      "variance 95%% confidence interval, n = 1000 (0.89728198338203757, 1.0693953437372099)\n",
      "interval length: 0.172113360355\n",
      "length ratio: 0.272432069041\n",
      "1 / sqrt(n2 / n1): 0.316227766017\n"
     ]
    }
   ],
   "source": [
    "l2 = variance_interval(1000)\n",
    "print \"length ratio:\", l2 / l1\n",
    "print \"1 / sqrt(n2 / n1):\", 1 / sqrt(10)"
   ]
  },
  {
   "cell_type": "code",
   "execution_count": 21,
   "metadata": {},
   "outputs": [
    {
     "name": "stdout",
     "output_type": "stream",
     "text": [
      "variance 95%% confidence interval, n = 10000 (0.96206567959350731, 1.0169104822742252)\n",
      "interval length: 0.0548448026807\n",
      "length ratio: 0.318655115254\n",
      "1 / sqrt(n3 / n1): 0.316227766017\n"
     ]
    }
   ],
   "source": [
    "l3 = variance_interval(10000)\n",
    "print \"length ratio:\", l3 / l2\n",
    "print \"1 / sqrt(n3 / n1):\", 1 / sqrt(10)"
   ]
  },
  {
   "cell_type": "code",
   "execution_count": 22,
   "metadata": {},
   "outputs": [
    {
     "name": "stdout",
     "output_type": "stream",
     "text": [
      "variance 95%% confidence interval, n = 100000 (0.99045078659122077, 1.0079670948073913)\n",
      "interval length: 0.0175163082162\n",
      "length ratio: 0.319379546648\n",
      "1 / sqrt(n4 / n3): 0.316227766017\n"
     ]
    }
   ],
   "source": [
    "l4 = variance_interval(100000)\n",
    "print \"length ratio:\", l4 / l3\n",
    "print \"1 / sqrt(n4 / n3):\", 1 / sqrt(10)"
   ]
  },
  {
   "cell_type": "markdown",
   "metadata": {},
   "source": [
    "Интервал сужается к истинному значению дисперсии $\\sigma^2 = 1$ со скоростью $\\frac{1}{\\sqrt{n}}$.\n",
    "Этот интервал действительно покрывает единицу."
   ]
  },
  {
   "cell_type": "markdown",
   "metadata": {},
   "source": [
    "## Задание 3\n",
    "Хотим вычислить величину\n",
    "$I = P \\left( \\xi < \\eta \\right), \\xi \\sim F \\left( u \\right), \\eta \\sim G \\left( u \\right)$,\n",
    "где $F \\left( u \\right)$ и $G \\left( u \\right) $ --- функции распределения.\n",
    "$\\xi \\geq 0$ и $\\eta > 0$ --- независимы.\n",
    "Фиксируем $\\xi$:\n",
    "\\begin{equation}\n",
    "I = \\int \\limits_0^{\\infty} F \\left( u \\right) dG \\left( u \\right) = MF \\left( \\eta \\right).\n",
    "\\end{equation}\n",
    "Фиксируем $\\xi$:\n",
    "\\begin{equation}\n",
    "I = \\int \\limits_0^{\\infty } \\left[ 1 - G \\left( u \\right) \\right] dF \\left( u \\right) =\n",
    "M \\left[ 1 - G \\left( \\xi \\right)\\right].\n",
    "\\end{equation}\n",
    "Если $\\xi \\gg \\eta$ в среднем, то $\\xi < \\eta$ очень редко.\n",
    "\n",
    "В первом случае дисперсия будет пропорциональна $p^2$.\n",
    "\n",
    "Возьмём конкретные функции распределения: $F \\left( u \\right) = 1 - e^{- \\left( \\alpha \\cdot u\\right)^2}, u \\geq 0$ --- распределение Вейбулла (Weibull), $G \\left( u \\right) = 1 - e^{-u^3}, u \\geq 0$.\n",
    "\n",
    "Чтобы сгенерировать $\\xi$, нужно приравнять $1 - e^{-\\left( \\alpha \\cdot u \\right)^2}$ к $1 - \\omega $,\n",
    "чтобы найти $u$, то есть\n",
    "\\begin{equation}\n",
    "\\xi = -\\frac{1}{\\alpha} \\cdot \\left( \\ln \\omega \\right)^{\\frac{1}{2}} \\sim F \\left( u \\right).\n",
    "\\end{equation}\n",
    "\n",
    "$P \\left\\{ \\xi < u\\right\\} =\n",
    "P \\left\\{ F^{-1} \\left( \\omega \\right) < u \\right\\} =\n",
    "P \\left\\{ \\omega < F \\left( u \\right) \\right\\} =\n",
    "F \\left( u \\right),\n",
    "\\eta = - \\left( \\ln \\omega \\right)^{\\frac{1}{3}}$.\n",
    "\n",
    "Хотим вычислить интеграл методом Монте-Карло.\n",
    "Уровень доверия возьмём $\\gamma = 0.05$.\n",
    "\n",
    "Относительную погрешность возьмём 1%, то есть $\\varepsilon = 0.01$.\n",
    "\n",
    "Для первого способа оценка интеграла\n",
    "\\begin{equation}\n",
    "\\hat{I}_n^{\\left( 1 \\right) } = \\frac{1}{n} \\sum \\limits_{i=1}^n F \\left( \\eta_i \\right),\n",
    "\\alpha = 0.1, 0.01, 0.001. \n",
    "\\end{equation}\n",
    "Вычислить $I$ точно.\n",
    "Для каждого из способов найти $n$, когда относительная погрешность оценки --- 1%\n",
    "\\begin{equation}\n",
    "n^* = \\min n \\geq n_0: n \\geq \\frac{z_{\\gamma}^2 \\cdot \\hat{\\sigma}_n^2}{\\varepsilon^2 \\cdot \\hat{I}_n^2}.\n",
    "\\end{equation}\n",
    "В первом случае $n_0 = 100$.\n",
    "\n",
    "Во втором случае $n_0$ в зависимости от $\\alpha$ нужно увеличивать, например, $n_0 = 1000, 10000, 100000$,\n",
    "чтобы дисперсия была устойчивой."
   ]
  },
  {
   "cell_type": "code",
   "execution_count": 23,
   "metadata": {
    "collapsed": true
   },
   "outputs": [],
   "source": [
    "epsilon = 0.01"
   ]
  },
  {
   "cell_type": "code",
   "execution_count": 24,
   "metadata": {
    "collapsed": true
   },
   "outputs": [],
   "source": [
    "def generation(n, alpha):\n",
    "    omega = uniform(size=n)\n",
    "    xi = [1 / alpha * sqrt(abs(log(x))) for x in omega]\n",
    "    G = 1 - array([1 - exp(-x ** 3) for x in xi])\n",
    "    eta = [-(log(x)) ** (1 / 3) for x in omega]\n",
    "    F = array([1 - exp(-(alpha * x) ** 2) for x in eta])\n",
    "    return F, G"
   ]
  },
  {
   "cell_type": "code",
   "execution_count": 25,
   "metadata": {
    "collapsed": true
   },
   "outputs": [],
   "source": [
    "n = 100\n",
    "alpha = 0.1\n",
    "F, G = generation(n, alpha)"
   ]
  },
  {
   "cell_type": "code",
   "execution_count": 26,
   "metadata": {
    "collapsed": true
   },
   "outputs": [],
   "source": [
    "def integrals(n, alpha):\n",
    "    F, G = generation(n, alpha)\n",
    "    return mean(F), mean(G)"
   ]
  },
  {
   "cell_type": "code",
   "execution_count": 27,
   "metadata": {},
   "outputs": [
    {
     "name": "stdout",
     "output_type": "stream",
     "text": [
      "(I1, I2): (0.0099501662508318933, 0.019029948596360778)\n"
     ]
    }
   ],
   "source": [
    "print \"(I1, I2):\", integrals(n, alpha)"
   ]
  },
  {
   "cell_type": "code",
   "execution_count": 28,
   "metadata": {},
   "outputs": [],
   "source": [
    "def unknown_distribution(sample, n, alpha, i):\n",
    "    a_n = sample.mean()\n",
    "    sigma_n = (sum(sample ** 2) - mean(a_n ** 2)) / (n - 1)\n",
    "    z = norm.ppf(1 - gamma)\n",
    "    left = a_n - z * sigma / sqrt(n)\n",
    "    right = a_n + z * sigma / sqrt(n)\n",
    "    print \"alpha:\", alpha\n",
    "    print \"n:\", n\n",
    "    print \"mean 95%% confidence interval for integral:\", (left, right)\n",
    "    print \"n >=\", (z * sigma_n / (epsilon * integrals(n, alpha)[i])) ** 2 // 1 + 1"
   ]
  },
  {
   "cell_type": "code",
   "execution_count": 29,
   "metadata": {},
   "outputs": [
    {
     "name": "stdout",
     "output_type": "stream",
     "text": [
      "alpha: 0.1\n",
      "n: 100\n",
      "mean 95%% confidence interval for integral: (-0.15453519644431532, 0.17443552894597911)\n",
      "n >= 3.0\n"
     ]
    }
   ],
   "source": [
    "unknown_distribution(generation(n, alpha)[0], n, alpha, 0)"
   ]
  },
  {
   "cell_type": "code",
   "execution_count": 30,
   "metadata": {},
   "outputs": [
    {
     "name": "stdout",
     "output_type": "stream",
     "text": [
      "alpha: 0.1\n",
      "n: 100\n",
      "mean 95%% confidence interval for integral: (-0.15323347150721828, 0.17573725388307615)\n",
      "n >= 7719786402.0\n"
     ]
    }
   ],
   "source": [
    "n = 100\n",
    "alpha = 0.1\n",
    "unknown_distribution(generation(n, alpha)[1], n, alpha, 1)"
   ]
  },
  {
   "cell_type": "markdown",
   "metadata": {},
   "source": [
    "Значения интегралов попадают в построенные доверительные интервалы.\n",
    "Минимальное значение $n$ в первом случае мало, так как все элементы выборки $\\eta$ оказались одинаковыми."
   ]
  }
 ],
 "metadata": {
  "kernelspec": {
   "display_name": "Python 2",
   "language": "python",
   "name": "python2"
  },
  "language_info": {
   "codemirror_mode": {
    "name": "ipython",
    "version": 2
   },
   "file_extension": ".py",
   "mimetype": "text/x-python",
   "name": "python",
   "nbconvert_exporter": "python",
   "pygments_lexer": "ipython2",
   "version": "2.7.13"
  }
 },
 "nbformat": 4,
 "nbformat_minor": 2
}
