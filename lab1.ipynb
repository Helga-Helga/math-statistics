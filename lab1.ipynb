{
 "cells": [
  {
   "cell_type": "markdown",
   "metadata": {},
   "source": [
    "# Лабораторная работа №1"
   ]
  },
  {
   "cell_type": "markdown",
   "metadata": {},
   "source": [
    "$\\left\\{ \\omega_i \\right\\}$ --- равномерно распределённые на $ \\left[ 0, 1 \\right] $.\n",
    "\n",
    "$N \\left( 0, 1 \\right) $ можно генерировать из последовательности $\\left\\{ \\omega_i \\right\\} $:\n",
    "$ \\xi_1 = \\sqrt{-2 \\ln \\omega_1} \\cdot \\sin \\left( 2 \\pi \\cdot \\omega_2 \\right) ,\n",
    "\\xi_2 = \\sqrt{-2 \\ln \\omega_1} \\cdot \\cos \\left( 2 \\pi \\cdot \\omega_2 \\right) $ --- независимы.\n",
    "\n",
    "Пусть наблюдается выборка $ \\vec{X} = \\left( X_1, \\dotsc, X_n \\right)$, где $X_i \\sim N \\left( 0, 1 \\right) $.\n",
    "\n",
    "Расчёты будем вести при $\\gamma = 0.05$.\n",
    "Это означает, что уровень доверия --- $0.95, z_{jamma} = 1.96$ (для нормального распределения).\n",
    "\n",
    "$n = 100, 1000, 10000, 100000$."
   ]
  },
  {
   "cell_type": "code",
   "execution_count": 1,
   "metadata": {
    "collapsed": true
   },
   "outputs": [],
   "source": [
    "from numpy.random import normal, uniform\n",
    "from numpy import mean, std, log, exp, array, append\n",
    "from scipy.stats import norm, t, chi2\n",
    "from math import sqrt\n",
    "from statsmodels.stats.weightstats import _zconfint_generic, _tconfint_generic"
   ]
  },
  {
   "cell_type": "code",
   "execution_count": 2,
   "metadata": {
    "collapsed": true
   },
   "outputs": [],
   "source": [
    "a = 0\n",
    "sigma = 1\n",
    "gamma = 0.05"
   ]
  },
  {
   "cell_type": "markdown",
   "metadata": {},
   "source": [
    "## Задание 1\n",
    "Определить скорость сходимости.\n",
    "Действительно ли она $\\frac{1}{\\sqrt{n}}$?\n",
    "Всегда ли доверительный интервал накрывает $0$?\n",
    "Строим доверительный интервал в следующих случаях:"
   ]
  },
  {
   "cell_type": "markdown",
   "metadata": {},
   "source": [
    "### а)\n",
    "для математического ожидания $a$, когда дисперсия известна ($=1$)."
   ]
  },
  {
   "cell_type": "markdown",
   "metadata": {},
   "source": [
    "Рассмотрим случай нормально распределённой генеральной совокупности, то есть допустим,\n",
    "что $ \\xi \\sim N \\left( a, \\sigma^2 \\right)$.\n",
    "\n",
    "**Лемма 1** Введём обозначения для среднего арифметического\n",
    "$$\\hat{a}_n = \\frac{1}{n} \\sum \\limits_{i=1}^n X_i$$\n",
    "и для выборочной дисперсии\n",
    "$$\\hat{\\sigma}_n^2 = \\frac{1}{n} \\sum \\limits_{i=1}^n \\left( X_i - \\hat{a}_n \\right)^2.$$\n",
    "Тогда\n",
    "$$\\hat{a}_n \\sim N \\left( a, \\frac{\\sigma^2}{n}\\right).$$\n",
    "Если случайные величины нормально распределены, то их сумма нормально распределена.\n",
    "\n",
    "Введём\n",
    "$$\\hat{U}_n = \\frac{\\hat{\\sigma}_n^2}{\\sigma^2} \\cdot n.$$\n",
    "Эта случайная величина независима с $\\hat{a}_n, \\hat{U}_n \\sim \\chi^2$ с $n-1$ степенями свободы.\n",
    "\n",
    "Плотность $\\chi^2$ распределения с $n$ степенями свободы:\n",
    "$$\n",
    "t_n \\left( u \\right) =\n",
    "\\frac{1}{2^{\\frac{n}{2}} \\cdot \\Gamma \\left( \\frac{n}{2}\\right)} \\cdot u^{\\frac{n}{2} - 1} \\cdot e^{-\\frac{u}{2}},\n",
    "u \\geq 0,\n",
    "\\Gamma \\left( \\alpha \\right) = \\int \\limits_0^{\\infty } u^{\\alpha - 1} \\cdot e^{-u} du.\n",
    "$$\n",
    "\n",
    "Используем первый пункт леммы 1, или\n",
    "$$\\hat{V}_n = \\frac{\\hat{a}_n - a}{\\sigma} \\cdot \\sqrt{n} \\sim N \\left( 0, 1 \\right).$$\n",
    "Это означает, что $P \\left\\{ \\left| \\hat{V}_n \\right| < z\\right\\} = 2 \\Phi \\left( z \\right) = 1 - \\gamma,$\n",
    "где\n",
    "$$\\Phi \\left( z \\right) = \\frac{1}{\\sqrt{2\\pi}} \\int \\limits_0^z e^{-\\frac{u^2}{2}} du, z > 0.$$\n",
    "Это функция Лапласа.\n",
    "\n",
    "Из уравнения $2\\Phi \\left( z \\right) = 1 - \\gamma$ по таблицам находим $z_{\\gamma}$.\n",
    "Тогда $P \\left\\{ \\left| \\hat{V}_n \\right| < z_{\\gamma }\\right\\} = 1 - \\gamma$.\n",
    "\n",
    "Решаем уравнение относительно $a$.\n",
    "Получим симметрический доверительный интервал\n",
    "$$\\hat{a}_n - \\frac{z_{\\gamma} \\cdot \\sigma}{\\sqrt{n}} <\n",
    "a <\n",
    "\\hat{a}_n + \\frac{z_{\\gamma} \\cdot \\sigma}{\\sqrt{n}}.$$\n",
    "\n",
    "Можем не попасть в этот интервал с вероятностью $\\gamma$.\n",
    "\n",
    "Абсолютная погрешность:\n",
    "$$\\frac{z_{\\gamma} \\cdot \\sigma}{\\sqrt{n}}.$$"
   ]
  },
  {
   "cell_type": "code",
   "execution_count": 3,
   "metadata": {},
   "outputs": [],
   "source": [
    "def mean_interval_known_sigma(n):\n",
    "    X = normal(a, sigma, n)\n",
    "    a_n = X.mean()\n",
    "    z = norm.ppf(1 - gamma / 2.)\n",
    "    left = a_n - z * sigma / sqrt(n)\n",
    "    right = a_n + z * sigma / sqrt(n)\n",
    "    length = right - left\n",
    "    print \"a_n:\", a_n\n",
    "    print \"mean 95%% confidence interval (theory), n =\", n, (left, right)\n",
    "    print \"mean 95%% confidence interval (python), n =\", n, _zconfint_generic(a_n, sigma / sqrt(n), gamma, 'two-sided')\n",
    "    print \"interval length:\", length\n",
    "    return length"
   ]
  },
  {
   "cell_type": "code",
   "execution_count": 4,
   "metadata": {},
   "outputs": [
    {
     "name": "stdout",
     "output_type": "stream",
     "text": [
      "a_n: -0.0127131294322\n",
      "mean 95%% confidence interval (theory), n = 100 (-0.20870952788617345, 0.18328326902183736)\n",
      "mean 95%% confidence interval (python), n = 100 (-0.20870952788617345, 0.18328326902183736)\n",
      "interval length: 0.391992796908\n"
     ]
    }
   ],
   "source": [
    "l1 = mean_interval_known_sigma(100)"
   ]
  },
  {
   "cell_type": "code",
   "execution_count": 5,
   "metadata": {},
   "outputs": [
    {
     "name": "stdout",
     "output_type": "stream",
     "text": [
      "a_n: -0.0580338968267\n",
      "mean 95%% confidence interval (theory), n = 1000 (-0.12001340005716418, 0.0039456064037481295)\n",
      "mean 95%% confidence interval (python), n = 1000 (-0.12001340005716418, 0.0039456064037481225)\n",
      "interval length: 0.123959006461\n",
      "length ratio: 0.316227766017\n",
      "1 / sqrt(n2 / n1): 0.316227766017\n"
     ]
    }
   ],
   "source": [
    "l2 = mean_interval_known_sigma(1000)\n",
    "print \"length ratio:\", l2 / l1\n",
    "print \"1 / sqrt(n2 / n1):\", 1 / sqrt(10)"
   ]
  },
  {
   "cell_type": "code",
   "execution_count": 6,
   "metadata": {},
   "outputs": [
    {
     "name": "stdout",
     "output_type": "stream",
     "text": [
      "a_n: -0.0096221013423\n",
      "mean 95%% confidence interval (theory), n = 10000 (-0.029221741187704008, 0.0099775385030970738)\n",
      "mean 95%% confidence interval (python), n = 10000 (-0.029221741187704008, 0.0099775385030970738)\n",
      "interval length: 0.0391992796908\n",
      "length ratio: 0.316227766017\n",
      "1 / sqrt(n3 / n2): 0.316227766017\n"
     ]
    }
   ],
   "source": [
    "l3 = mean_interval_known_sigma(10000)\n",
    "print \"length ratio:\", l3 / l2\n",
    "print \"1 / sqrt(n3 / n2):\", 1 / sqrt(10)"
   ]
  },
  {
   "cell_type": "code",
   "execution_count": 7,
   "metadata": {},
   "outputs": [
    {
     "name": "stdout",
     "output_type": "stream",
     "text": [
      "a_n: 0.0025405610612\n",
      "mean 95%% confidence interval (theory), n = 100000 (-0.0036573892618453575, 0.0087385113842458721)\n",
      "mean 95%% confidence interval (python), n = 100000 (-0.0036573892618453575, 0.0087385113842458721)\n",
      "interval length: 0.0123959006461\n",
      "length ratio: 0.316227766017\n",
      "1 / sqrt(n4 / n3): 0.316227766017\n"
     ]
    }
   ],
   "source": [
    "l4 = mean_interval_known_sigma(100000)\n",
    "print \"length ratio:\", l4 / l3\n",
    "print \"1 / sqrt(n4 / n3):\", 1 / sqrt(10)"
   ]
  },
  {
   "cell_type": "markdown",
   "metadata": {},
   "source": [
    "При всех $n$ доверительный интервал накрывает $0$.\n",
    "Скорость сходимости доверительного интервала к истинному значению математического ожидания $a = 0$ равна\n",
    "$1 / \\sqrt{n}$.\n",
    "Результаты,\n",
    "полученные с помощью теоретических выкладок и функции `_zconfint_generic(mean, std_mean, gamma, alternative)`\n",
    "совпадают."
   ]
  },
  {
   "cell_type": "markdown",
   "metadata": {},
   "source": [
    "### б)\n",
    "для математического ожидания $a$, когда дисперсия неизвестна."
   ]
  },
  {
   "cell_type": "markdown",
   "metadata": {},
   "source": [
    "**Лемма 2** Определим\n",
    "\\begin{equation}\n",
    "\\hat{V}_n = \\frac{\\hat{a}_n - a}{ \\sigma} \\cdot \\sqrt{n}.\n",
    "\\end{equation}\n",
    "Тогда\n",
    "\\begin{equation}\n",
    "\\hat{Z}_n = \\sqrt{n - 1} \\cdot \\frac{\\hat{V}_n}{\\sqrt{\\hat{U}_n}}\n",
    "\\end{equation}\n",
    "имеет распределение Стьюдента с $n-1$ степенью свободы.\n",
    "Плотность распределения:\n",
    "\\begin{equation}\n",
    "S_n \\left( u \\right) =\n",
    "\\frac{\\Gamma \\left( \\frac{n + 1}{2}\\right)}{\\sqrt{n \\cdot \\pi} \\cdot \\Gamma \\left( \\frac{n}{2}\\right)} \\cdot\n",
    "\\left( 1 + \\frac{u^2}{n} \\right)^{-\\frac{n+1}{2}},\n",
    "-\\infty < u < +\\infty.\n",
    "\\end{equation}\n",
    "\n",
    "Используем лемму 2\n",
    "\\begin{equation}\n",
    "\\hat{Z}_n =\n",
    "\\sqrt{n-1} \\cdot \\frac{\\sqrt{n} \\cdot\n",
    "\\left( \\hat{a}_n - a\\right) \\cdot \\sigma}{\\sigma \\cdot \\sqrt{n} \\cdot \\hat{\\sigma}_n} =\n",
    "\\sqrt{n - 1} \\cdot \\frac{\\hat{a}_n - a}{\\hat{\\sigma}_n}.\n",
    "\\end{equation}\n",
    "Получается, что\n",
    "\\begin{equation}\n",
    "P \\left\\{ \\left| \\hat{Z}_n\\right| < z \\right\\} = 2 \\int \\limits_0^1 S_{n-1} \\left( u \\right) du = 1 - \\gamma.\n",
    "\\end{equation}\n",
    "Решаем:\n",
    "\\begin{equation}\n",
    "\\left| \\hat{Z}_n\\right| < z_{\\gamma} \\Rightarrow\n",
    "\\hat{a}_n - \\frac{z_{\\gamma} \\cdot \\hat{\\sigma}_n}{\\sqrt{n-1}} <\n",
    "a <\n",
    "\\hat{a}_n + \\frac{z_{\\gamma} \\cdot \\hat{\\sigma}_n}{\\sqrt{n-1}}.\n",
    "\\end{equation}\n",
    "Отличия:\n",
    "- дисперсию $\\sigma$ заменяем на оценку $\\hat{\\sigma}_n$;\n",
    "- $\\sqrt{n} \\to \\sqrt{n-1}$;\n",
    "- $N \\to S_{n-1}$, то есть $z_{gamma}$ вычисляется по другим таблицам."
   ]
  },
  {
   "cell_type": "code",
   "execution_count": 8,
   "metadata": {
    "collapsed": true
   },
   "outputs": [],
   "source": [
    "def mean_interval_unknown_sigma(n):\n",
    "    X = normal(a, sigma, n)\n",
    "    a_n = X.mean()\n",
    "    sigma_n = sqrt(((X - a_n) ** 2).mean())\n",
    "    z = t.ppf(1 - gamma / 2., n - 1)\n",
    "    left = a_n - z * sigma_n / sqrt(n - 1)\n",
    "    right = a_n + z * sigma_n / sqrt(n - 1)\n",
    "    length = right - left\n",
    "    print \"a_n:\", a_n\n",
    "    print \"mean 95%% confidence interval, n =\", n, (left, right)\n",
    "    print \"interval length:\", length\n",
    "    return length"
   ]
  },
  {
   "cell_type": "code",
   "execution_count": 9,
   "metadata": {},
   "outputs": [
    {
     "name": "stdout",
     "output_type": "stream",
     "text": [
      "a_n: 0.105871455405\n",
      "mean 95%% confidence interval, n = 100 (-0.1128437044923101, 0.32458661530236921)\n",
      "interval length: 0.437430319795\n"
     ]
    }
   ],
   "source": [
    "l1 = mean_interval_unknown_sigma(100)"
   ]
  },
  {
   "cell_type": "code",
   "execution_count": 10,
   "metadata": {},
   "outputs": [
    {
     "name": "stdout",
     "output_type": "stream",
     "text": [
      "a_n: 0.00994965146341\n",
      "mean 95%% confidence interval, n = 1000 (-0.05175964124908726, 0.071658944175905612)\n",
      "interval length: 0.123418585425\n",
      "length ratio: 0.282144560722\n",
      "1 / sqrt(n2 / n1): 0.316227766017\n"
     ]
    }
   ],
   "source": [
    "l2 = mean_interval_unknown_sigma(1000)\n",
    "print \"length ratio:\", l2 / l1\n",
    "print \"1 / sqrt(n2 / n1):\", 1 / sqrt(10)"
   ]
  },
  {
   "cell_type": "code",
   "execution_count": 11,
   "metadata": {},
   "outputs": [
    {
     "name": "stdout",
     "output_type": "stream",
     "text": [
      "a_n: -0.0103887977442\n",
      "mean 95%% confidence interval, n = 10000 (-0.030026822561003214, 0.0092492270725678706)\n",
      "interval length: 0.0392760496336\n",
      "length ratio: 0.318234482257\n",
      "1 / sqrt(n3 / n2): 0.316227766017\n"
     ]
    }
   ],
   "source": [
    "l3 = mean_interval_unknown_sigma(10000)\n",
    "print \"length ratio:\", l3 / l2\n",
    "print \"1 / sqrt(n3 / n2):\", 1 / sqrt(10)"
   ]
  },
  {
   "cell_type": "code",
   "execution_count": 12,
   "metadata": {},
   "outputs": [
    {
     "name": "stdout",
     "output_type": "stream",
     "text": [
      "a_n: 0.00170738716741\n",
      "mean 95%% confidence interval, n = 100000 (-0.0044910835913364111, 0.0079058579261472098)\n",
      "interval length: 0.0123969415175\n",
      "length ratio: 0.315636160794\n",
      "1 / sqrt(n4 / n3): 0.316227766017\n"
     ]
    }
   ],
   "source": [
    "l4 = mean_interval_unknown_sigma(100000)\n",
    "print \"length ratio:\", l4 / l3\n",
    "print \"1 / sqrt(n4 / n3):\", 1 / sqrt(10)"
   ]
  },
  {
   "cell_type": "markdown",
   "metadata": {},
   "source": [
    "Скорость сходимости доверительного интервала к истинному значению математического ожидания $a = 0$ равна\n",
    "$\\frac{1}{\\sqrt{n}}$.\n",
    "Доверительный интервал всегда накрывает $0$.\n",
    "В данном случае теоретические результаты отличаются от результатов,\n",
    "полученных с помощью функции `_tconfint_generic(mean, std_mean, dof, gamma, alternative)` отличаются,\n",
    "так как в функции нет деления на $\\sqrt{n-1}$."
   ]
  },
  {
   "cell_type": "markdown",
   "metadata": {},
   "source": [
    "### в)\n",
    "для математического ожидания $a$, когда распределение не $N \\left( 0, 1 \\right)$, то есть мы не знаем,\n",
    "что распределение нормальное.\n",
    "Просто есть последовательность $\\vec{X}$."
   ]
  },
  {
   "cell_type": "markdown",
   "metadata": {},
   "source": [
    "Считаем, что $M \\xi = a, D \\xi < \\infty $.\n",
    "\n",
    "Пользуемся центральной предельной теоремой.\n",
    "\n",
    "Пусть несмещённая оценка дисперсии (выборочная несмещённая дисперсия)\n",
    "\\begin{equation}\n",
    "\\hat{\\sigma}_n = \\frac{1}{n - 1} \\cdot \\left( \\sum \\limits_{i = 1}^n X_i^2 - \\frac{1}{n} \\cdot \\hat{a}_n^2 \\right).\n",
    "\\end{equation}\n",
    "Согласно центральной предельной теореме выходит\n",
    "\\begin{equation}\n",
    "P \\left\\{ \\sqrt{n} \\cdot \\frac{\\left| \\hat{a}_n - a \\right|}{\\sigma} < z \\right\\}\n",
    "\\overset{n \\to \\infty }{\\to} \\Phi \\left( z \\right) =\n",
    "1 - \\gamma.\n",
    "\\end{equation}\n",
    "В этом случае будем строить ассимптотические доверительные интервалы\n",
    "\\begin{equation}\n",
    "\\hat{a}_n - \\frac{z_{\\gamma} \\cdot \\sigma}{\\sqrt{n}} < a < \\hat{a}_n + \\frac{z_{\\gamma} \\cdot \\sigma}{ \\sqrt{n}}.\n",
    "\\end{equation}\n",
    "Проблема в том, что $\\sigma$ неизвестно.\n",
    "На практике заменяют $\\sigma$ на $\\hat{\\sigma}_n$, то есть доверительный интервал строится таким образом\n",
    "\\begin{equation}\n",
    "\\hat{a}_n = \\frac{z_{\\gamma} \\cdot \\hat{\\sigma}_n}{\\sqrt{n}} <\n",
    "a <\n",
    "\\hat{a}_n + \\frac{z_{\\gamma} \\cdot \\hat{\\sigma}_n}{\\sqrt{n}},\n",
    "\\end{equation}\n",
    "где $z_{\\gamma}$ находится через функцию Лапласа."
   ]
  },
  {
   "cell_type": "code",
   "execution_count": 13,
   "metadata": {
    "collapsed": true
   },
   "outputs": [],
   "source": [
    "def mean_interval_unknown_distribution(n):\n",
    "    X = normal(a, sigma, n)\n",
    "    a_n = X.mean()\n",
    "    sigma_n = (sum(X ** 2) - mean(a_n ** 2)) / (n - 1)\n",
    "    z = norm.ppf(1 - gamma)\n",
    "    left = a_n - z * sigma_n / sqrt(n)\n",
    "    right = a_n + z * sigma_n / sqrt(n)\n",
    "    length = right - left\n",
    "    print \"a_n:\", a_n\n",
    "    print \"mean 95%% confidence interval, n =\", n, (left, right)\n",
    "    print \"interval length:\", length\n",
    "    return length"
   ]
  },
  {
   "cell_type": "code",
   "execution_count": 14,
   "metadata": {},
   "outputs": [
    {
     "name": "stdout",
     "output_type": "stream",
     "text": [
      "a_n: -0.00339428741576\n",
      "mean 95%% confidence interval, n = 100 (-0.13293271345690491, 0.12614413862537696)\n",
      "interval length: 0.259076852082\n"
     ]
    }
   ],
   "source": [
    "l1 = mean_interval_unknown_distribution(100)"
   ]
  },
  {
   "cell_type": "code",
   "execution_count": 15,
   "metadata": {},
   "outputs": [
    {
     "name": "stdout",
     "output_type": "stream",
     "text": [
      "a_n: 0.00852599773067\n",
      "mean 95%% confidence interval, n = 1000 (-0.043795438968495852, 0.060847434429832155)\n",
      "interval length: 0.104642873398\n",
      "length ratio: 0.403906688526\n",
      "1 / sqrt(n2 / n1): 0.316227766017\n"
     ]
    }
   ],
   "source": [
    "l2 = mean_interval_unknown_distribution(1000)\n",
    "print \"length ratio:\", l2 / l1\n",
    "print \"1 / sqrt(n2 / n1):\", 1 / sqrt(10)"
   ]
  },
  {
   "cell_type": "code",
   "execution_count": 16,
   "metadata": {},
   "outputs": [
    {
     "name": "stdout",
     "output_type": "stream",
     "text": [
      "a_n: 0.00622093260412\n",
      "mean 95%% confidence interval, n = 10000 (-0.010121016454671712, 0.022562881662910123)\n",
      "interval length: 0.0326838981176\n",
      "length ratio: 0.312337544413\n",
      "1 / sqrt(n3 / n2): 0.316227766017\n"
     ]
    }
   ],
   "source": [
    "l3 = mean_interval_unknown_distribution(10000)\n",
    "print \"length ratio:\", l3 / l2\n",
    "print \"1 / sqrt(n3 / n2):\", 1 / sqrt(10)"
   ]
  },
  {
   "cell_type": "code",
   "execution_count": 17,
   "metadata": {},
   "outputs": [
    {
     "name": "stdout",
     "output_type": "stream",
     "text": [
      "a_n: 0.00154191273258\n",
      "mean 95%% confidence interval, n = 100000 (-0.0036439238856110145, 0.0067277493507709495)\n",
      "interval length: 0.0103716732364\n",
      "length ratio: 0.317332810152\n",
      "1 / sqrt(n4 / n3): 0.316227766017\n"
     ]
    }
   ],
   "source": [
    "l4 = mean_interval_unknown_distribution(100000)\n",
    "print \"length ratio:\", l4 / l3\n",
    "print \"1 / sqrt(n4 / n3):\", 1 / sqrt(10)"
   ]
  },
  {
   "cell_type": "markdown",
   "metadata": {},
   "source": [
    "Скорость сходимости доверительного интервала к истинному значению математического ожидания $a = 0$ равна\n",
    "$\\frac{1}{\\sqrt{n}}$.\n",
    "Доверительный интервал всегда накрывает $0$."
   ]
  },
  {
   "cell_type": "markdown",
   "metadata": {},
   "source": [
    "## Задание 2\n",
    "При заданных $n$ строим доверительный интервал для дисперсии $\\sigma^2 = 1$ (в допущении $N \\left( 0, 1 \\right)$).\n",
    "Действительно ли он сужается и с какой скоростью?\n",
    "Действительно ли этот интервал накрывает единицу?"
   ]
  },
  {
   "cell_type": "markdown",
   "metadata": {},
   "source": [
    "Используем вторую часть первой леммы.\n",
    "\n",
    "В данном случае дисперсия принимает значения только больше нуля, $\\chi^2$ распределение не симметрично.\n",
    "Оно имеет вид:\n",
    "![chi-squared distribution](chi-squared.jpg)\n",
    "Нужно строить такой доверительный интервал,\n",
    "чтобы расстояние между точками $z_{\\gamma}^{\\left( 1 \\right)}$ и $z_{\\gamma}^{\\left( 2 \\right)}$ было маленьким:\n",
    "\\begin{equation}\n",
    "\\int \\limits_0^{z_{\\gamma}^{\\left( 1 \\right)}} t_{n-1} \\left( u \\right) du = \\frac{\\gamma}{2}, \n",
    "\\int \\limits_{z_{\\gamma}^{\\left( 2 \\right)}} t_{n - 1} \\left( u \\right) du = \\frac{\\gamma}{2}.\n",
    "\\end{equation}\n",
    "При заданном $\\gamma$ из этих уравнений находим $z_{\\gamma}^{\\left( 1 \\right) }$ и $z_{\\gamma}^{\\left( 2 \\right)}$.\n",
    "Получается,\n",
    "что $P \\left\\{ z_{\\gamma}^{\\left( 1 \\right) } < \\hat{U}_n < z_{\\gamma}^{\\left( 2 \\right) } \\right\\} = 1 - \\gamma$.\n",
    "\n",
    "Доверительный интервал для дисперсии\n",
    "\\begin{equation}\n",
    "\\frac{\\left( n - 1 \\right) \\cdot \\hat{\\sigma}_n^2}{z_{\\gamma n}^{\\left( 2 \\right)}} <\n",
    "\\sigma^2 <\n",
    "\\frac{\\left( n - 1 \\right) \\cdot \\hat{\\sigma}_n^2}{z_{\\gamma n}^{\\left( 2 \\right) }}.\n",
    "\\end{equation}\n",
    "Когда увеличиваем $n$, увеличивабтся $z_{\\gamma n}^{\\left( i \\right) }$.\n",
    "Сам интервал сужается."
   ]
  },
  {
   "cell_type": "code",
   "execution_count": 18,
   "metadata": {
    "collapsed": true
   },
   "outputs": [],
   "source": [
    "def variance_interval(n):\n",
    "    X = normal(a, sigma, n)\n",
    "    a_n = X.mean()\n",
    "    sigma_n = (sum(X ** 2) - mean(a_n ** 2)) / (n - 1)\n",
    "    z1 = chi2.ppf(gamma / 2, n - 1)\n",
    "    z2 = chi2.ppf(1 - gamma / 2, n - 1)\n",
    "    left = (n - 1) * sigma_n / z2\n",
    "    right = (n - 1) * sigma_n / z1\n",
    "    length = right - left\n",
    "    print \"sigma_n:\", sigma_n\n",
    "    print \"variance 95%% confidence interval, n =\", n, (left, right)\n",
    "    print \"interval length:\", length\n",
    "    return length"
   ]
  },
  {
   "cell_type": "code",
   "execution_count": 19,
   "metadata": {},
   "outputs": [
    {
     "name": "stdout",
     "output_type": "stream",
     "text": [
      "sigma_n: 1.25076508873\n",
      "variance 95%% confidence interval, n = 100 (0.96420982958061896, 1.6878942275906355)\n",
      "interval length: 0.72368439801\n"
     ]
    }
   ],
   "source": [
    "l1 = variance_interval(100)"
   ]
  },
  {
   "cell_type": "code",
   "execution_count": 20,
   "metadata": {},
   "outputs": [
    {
     "name": "stdout",
     "output_type": "stream",
     "text": [
      "sigma_n: 0.979183365995\n",
      "variance 95%% confidence interval, n = 1000 (0.89868241124166603, 1.0710643965657105)\n",
      "interval length: 0.172381985324\n",
      "length ratio: 0.238200499828\n",
      "1 / sqrt(n2 / n1): 0.316227766017\n"
     ]
    }
   ],
   "source": [
    "l2 = variance_interval(1000)\n",
    "print \"length ratio:\", l2 / l1\n",
    "print \"1 / sqrt(n2 / n1):\", 1 / sqrt(10)"
   ]
  },
  {
   "cell_type": "code",
   "execution_count": 21,
   "metadata": {},
   "outputs": [
    {
     "name": "stdout",
     "output_type": "stream",
     "text": [
      "sigma_n: 0.99104656362\n",
      "variance 95%% confidence interval, n = 10000 (0.96413896566250556, 1.0191019608614336)\n",
      "interval length: 0.0549629951989\n",
      "length ratio: 0.318844194163\n",
      "1 / sqrt(n3 / n1): 0.316227766017\n"
     ]
    }
   ],
   "source": [
    "l3 = variance_interval(10000)\n",
    "print \"length ratio:\", l3 / l2\n",
    "print \"1 / sqrt(n3 / n1):\", 1 / sqrt(10)"
   ]
  },
  {
   "cell_type": "code",
   "execution_count": 22,
   "metadata": {},
   "outputs": [
    {
     "name": "stdout",
     "output_type": "stream",
     "text": [
      "sigma_n: 0.99376552113\n",
      "variance 95%% confidence interval, n = 100000 (0.98511210228546453, 1.0025339948668208)\n",
      "interval length: 0.0174218925814\n",
      "length ratio: 0.31697494866\n",
      "1 / sqrt(n4 / n3): 0.316227766017\n"
     ]
    }
   ],
   "source": [
    "l4 = variance_interval(100000)\n",
    "print \"length ratio:\", l4 / l3\n",
    "print \"1 / sqrt(n4 / n3):\", 1 / sqrt(10)"
   ]
  },
  {
   "cell_type": "markdown",
   "metadata": {},
   "source": [
    "Интервал сужается к истинному значению дисперсии $\\sigma^2 = 1$ со скоростью $\\frac{1}{\\sqrt{n}}$.\n",
    "Этот интервал действительно покрывает единицу."
   ]
  },
  {
   "cell_type": "markdown",
   "metadata": {},
   "source": [
    "## Задание 3\n",
    "Хотим вычислить величину\n",
    "$I = P \\left( \\xi < \\eta \\right), \\xi \\sim F \\left( u \\right), \\eta \\sim G \\left( u \\right)$,\n",
    "где $F \\left( u \\right)$ и $G \\left( u \\right) $ --- функции распределения.\n",
    "$\\xi \\geq 0$ и $\\eta > 0$ --- независимы.\n",
    "Фиксируем $\\xi$:\n",
    "\\begin{equation}\n",
    "I = \\int \\limits_0^{\\infty} F \\left( u \\right) dG \\left( u \\right) = MF \\left( \\eta \\right).\n",
    "\\end{equation}\n",
    "Фиксируем $\\xi$:\n",
    "\\begin{equation}\n",
    "I = \\int \\limits_0^{\\infty } \\left[ 1 - G \\left( u \\right) \\right] dF \\left( u \\right) =\n",
    "M \\left[ 1 - G \\left( \\xi \\right)\\right].\n",
    "\\end{equation}\n",
    "Если $\\xi \\gg \\eta$ в среднем, то $\\xi < \\eta$ очень редко.\n",
    "\n",
    "В первом случае дисперсия будет пропорциональна $p^2$.\n",
    "\n",
    "Возьмём конкретные функции распределения: $F \\left( u \\right) = 1 - e^{- \\left( \\alpha \\cdot u\\right)^2}, u \\geq 0$ --- распределение Вейбулла (Weibull), $G \\left( u \\right) = 1 - e^{-u^3}, u \\geq 0$.\n",
    "\n",
    "Чтобы сгенерировать $\\xi$, нужно приравнять $1 - e^{-\\left( \\alpha \\cdot u \\right)^2}$ к $1 - \\omega $,\n",
    "чтобы найти $u$, то есть\n",
    "\\begin{equation}\n",
    "\\xi = -\\frac{1}{\\alpha} \\cdot \\left( \\ln \\omega \\right)^{\\frac{1}{2}} \\sim F \\left( u \\right).\n",
    "\\end{equation}\n",
    "\n",
    "$P \\left\\{ \\xi < u\\right\\} =\n",
    "P \\left\\{ F^{-1} \\left( \\omega \\right) < u \\right\\} =\n",
    "P \\left\\{ \\omega < F \\left( u \\right) \\right\\} =\n",
    "F \\left( u \\right),\n",
    "\\eta = - \\left( \\ln \\omega \\right)^{\\frac{1}{3}}$.\n",
    "\n",
    "Хотим вычислить интеграл методом Монте-Карло.\n",
    "Уровень доверия возьмём $\\gamma = 0.05$.\n",
    "\n",
    "Относительную погрешность возьмём 1%, то есть $\\varepsilon = 0.01$.\n",
    "\n",
    "Для первого способа оценка интеграла\n",
    "\\begin{equation}\n",
    "\\hat{I}_n^{\\left( 1 \\right) } = \\frac{1}{n} \\sum \\limits_{i=1}^n F \\left( \\eta_i \\right),\n",
    "\\alpha = 0.1, 0.01, 0.001. \n",
    "\\end{equation}\n",
    "Вычислить $I$ точно.\n",
    "Для каждого из способов найти $n$, когда относительная погрешность оценки --- 1%\n",
    "\\begin{equation}\n",
    "n^* = \\min n \\geq n_0: n \\geq \\frac{z_{\\gamma}^2 \\cdot \\hat{\\sigma}_n^2}{\\varepsilon^2 \\cdot \\hat{I}_n^2}.\n",
    "\\end{equation}\n",
    "В первом случае $n_0 = 100$.\n",
    "\n",
    "Во втором случае $n_0$ в зависимости от $\\alpha$ нужно увеличивать, например, $n_0 = 1000, 10000, 100000$,\n",
    "чтобы дисперсия была устойчивой."
   ]
  },
  {
   "cell_type": "code",
   "execution_count": 23,
   "metadata": {
    "collapsed": true
   },
   "outputs": [],
   "source": [
    "def find_n_1(n_0, alpha, epsilon=0.01):\n",
    "    omega = uniform(size=n_0)\n",
    "    eta = [(-log(x)) ** (1 / 3.) for x in omega]\n",
    "    F = array([1 - exp(-(alpha * u) ** 2) for u in eta])\n",
    "    I_n = mean(F)\n",
    "    i = n_0\n",
    "    z = norm.ppf(1 - gamma / 2.)\n",
    "    while i < z ** 2 * (mean(F ** 2) - (mean(F)) ** 2) / (epsilon ** 2 * I_n ** 2):\n",
    "        i += 1\n",
    "        new_uniform = uniform(size=1)\n",
    "        new_eta = (-log(new_uniform)) ** (1 / 3.)\n",
    "        append(F, 1 - exp(-(alpha * new_eta) ** 2))\n",
    "        I_n = mean(F)\n",
    "    left = I_n - z * (mean(F ** 2) - (mean(F)) ** 2) / sqrt(i)\n",
    "    right = I_n + z * (mean(F ** 2) - (mean(F)) ** 2) / sqrt(i)\n",
    "    print \"I_n:\", I_n\n",
    "    print \"integral 1 95%% confidence interval:\", (left, right)\n",
    "    return i"
   ]
  },
  {
   "cell_type": "code",
   "execution_count": 24,
   "metadata": {},
   "outputs": [
    {
     "name": "stdout",
     "output_type": "stream",
     "text": [
      "I_n: 0.0084206395141\n",
      "integral 1 95%% confidence interval: (0.0084201354997375018, 0.0084211435284686515)\n",
      "alpha = 0.1, n: 19410\n"
     ]
    }
   ],
   "source": [
    "n = find_n_1(100, 0.1)\n",
    "print \"alpha = 0.1, n:\", n"
   ]
  },
  {
   "cell_type": "code",
   "execution_count": 25,
   "metadata": {},
   "outputs": [
    {
     "name": "stdout",
     "output_type": "stream",
     "text": [
      "I_n: 8.81283741962e-05\n",
      "integral 1 95%% confidence interval: (8.8128317470727706e-05, 8.8128430921650543e-05)\n",
      "alpha = 0.01, n: 20494\n"
     ]
    }
   ],
   "source": [
    "n = find_n_1(100, 0.01)\n",
    "print \"alpha = 0.01, n:\", n"
   ]
  },
  {
   "cell_type": "code",
   "execution_count": 26,
   "metadata": {},
   "outputs": [
    {
     "name": "stdout",
     "output_type": "stream",
     "text": [
      "I_n: 8.28286933761e-07\n",
      "integral 1 95%% confidence interval: (8.2828692907582522e-07, 8.2828693844533522e-07)\n",
      "alpha = 0.001, n: 17913\n"
     ]
    }
   ],
   "source": [
    "n = find_n_1(100, 0.001)\n",
    "print \"alpha = 0.001, n:\", n"
   ]
  },
  {
   "cell_type": "code",
   "execution_count": 27,
   "metadata": {
    "collapsed": true
   },
   "outputs": [],
   "source": [
    "def find_n_2(n_0, alpha, epsilon=0.01):\n",
    "    omega = uniform(size=n_0)\n",
    "    xi = [1 / alpha * (-log(x)) ** (0.5) for x in omega]\n",
    "    G = array([1 - exp(-u ** 3) for u in xi])\n",
    "    I_n = mean(1 - G)\n",
    "    i = n_0\n",
    "    z = norm.ppf(1 - gamma / 2.)\n",
    "    while i < z ** 2 * (mean((1 - G) ** 2) - I_n ** 2) / (epsilon ** 2 * I_n ** 2):\n",
    "        i += 1\n",
    "        new_uniform = uniform(size=1)\n",
    "        new_xi = 1 / alpha * (-log(new_uniform)) ** (0.5)\n",
    "        append(G, 1 - exp(-new_xi ** 3))\n",
    "        I_n = mean(1 - G)\n",
    "    left = I_n - z * (mean((1 - G) ** 2) - (mean(1 - G)) ** 2) / sqrt(i)\n",
    "    right = I_n + z * (mean((1 - G) ** 2) - (mean(1 - G)) ** 2) / sqrt(i)\n",
    "    print \"I_n:\", I_n\n",
    "    print \"integral 1 95%% confidence interval:\", (left, right)\n",
    "    return i"
   ]
  },
  {
   "cell_type": "code",
   "execution_count": 28,
   "metadata": {},
   "outputs": [
    {
     "name": "stdout",
     "output_type": "stream",
     "text": [
      "I_n: 0.00769813943955\n",
      "integral 1 95%% confidence interval: (0.0076931286083678366, 0.0077031502707227131)\n",
      "alpha = 0.1, n: 2746457\n"
     ]
    }
   ],
   "source": [
    "n = find_n_2(1000, 0.1)\n",
    "print \"alpha = 0.1, n:\", n"
   ]
  },
  {
   "cell_type": "markdown",
   "metadata": {},
   "source": [
    "Значения интегралов попадают в построенные доверительные интервалы.\n",
    "Для вычисления первого интеграла с точностью 1% нужна выборка размера 15-20 тысяч наблюдений.\n",
    "Для вычисления второго интеграла с точностью 1% выборка должна содержать больше миллиона элементов."
   ]
  }
 ],
 "metadata": {
  "kernelspec": {
   "display_name": "Python 2",
   "language": "python",
   "name": "python2"
  },
  "language_info": {
   "codemirror_mode": {
    "name": "ipython",
    "version": 2
   },
   "file_extension": ".py",
   "mimetype": "text/x-python",
   "name": "python",
   "nbconvert_exporter": "python",
   "pygments_lexer": "ipython2",
   "version": "2.7.13"
  }
 },
 "nbformat": 4,
 "nbformat_minor": 2
}
