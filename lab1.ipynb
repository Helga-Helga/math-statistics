{
 "cells": [
  {
   "cell_type": "markdown",
   "metadata": {},
   "source": [
    "# Лабораторная работа №1"
   ]
  },
  {
   "cell_type": "markdown",
   "metadata": {},
   "source": [
    "$\\left\\{ \\omega_i \\right\\}$ --- равномерно распределённые на $ \\left[ 0, 1 \\right] $.\n",
    "\n",
    "$N \\left( 0, 1 \\right) $ можно генерировать из последовательности $\\left\\{ \\omega_i \\right\\} $:\n",
    "$ \\xi_1 = \\sqrt{-2 \\ln \\omega_1} \\cdot \\sin \\left( 2 \\pi \\cdot \\omega_2 \\right) ,\n",
    "\\xi_2 = \\sqrt{-2 \\ln \\omega_1} \\cdot \\cos \\left( 2 \\pi \\cdot \\omega_2 \\right) $ --- независимы.\n",
    "\n",
    "Пусть наблюдается выборка $ \\vec{X} = \\left( X_1, \\dotsc, X_n \\right)$, где $X_i \\sim N \\left( 0, 1 \\right) $.\n",
    "\n",
    "Расчёты будем вести при $\\gamma = 0.05$.\n",
    "Это означает, что уровень доверия --- $0.95, z_{\\gamma} = 1.96$ (для нормального распределения).\n",
    "\n",
    "$n = 100, 1000, 10000, 100000$."
   ]
  },
  {
   "cell_type": "code",
   "execution_count": 1,
   "metadata": {
    "collapsed": true
   },
   "outputs": [],
   "source": [
    "from numpy.random import normal, uniform, rand\n",
    "from numpy import mean, std, log, exp, array, append, inf\n",
    "from scipy.stats import norm, t, chi2\n",
    "from scipy.integrate import quad\n",
    "from math import sqrt\n",
    "from statsmodels.stats.weightstats import _zconfint_generic, _tconfint_generic"
   ]
  },
  {
   "cell_type": "code",
   "execution_count": 2,
   "metadata": {
    "collapsed": true
   },
   "outputs": [],
   "source": [
    "a = 0\n",
    "sigma = 1\n",
    "gamma = 0.05"
   ]
  },
  {
   "cell_type": "markdown",
   "metadata": {},
   "source": [
    "## Задание 1\n",
    "Определить скорость сходимости.\n",
    "Действительно ли она $\\frac{1}{\\sqrt{n}}$?\n",
    "Всегда ли доверительный интервал накрывает $0$?\n",
    "Строим доверительный интервал в следующих случаях:"
   ]
  },
  {
   "cell_type": "markdown",
   "metadata": {},
   "source": [
    "### а)\n",
    "для математического ожидания $a$, когда дисперсия известна ($=1$)."
   ]
  },
  {
   "cell_type": "markdown",
   "metadata": {},
   "source": [
    "Рассмотрим случай нормально распределённой генеральной совокупности, то есть допустим,\n",
    "что $ \\xi \\sim N \\left( a, \\sigma^2 \\right)$.\n",
    "\n",
    "**Лемма 1** Введём обозначения для среднего арифметического\n",
    "$$\\hat{a}_n = \\frac{1}{n} \\sum \\limits_{i=1}^n X_i$$\n",
    "и для выборочной дисперсии\n",
    "$$\\hat{\\sigma}_n^2 = \\frac{1}{n} \\sum \\limits_{i=1}^n \\left( X_i - \\hat{a}_n \\right)^2.$$\n",
    "Тогда\n",
    "$$\\hat{a}_n \\sim N \\left( a, \\frac{\\sigma^2}{n}\\right).$$\n",
    "Если случайные величины нормально распределены, то их сумма нормально распределена.\n",
    "\n",
    "Введём\n",
    "$$\\hat{U}_n = \\frac{\\hat{\\sigma}_n^2}{\\sigma^2} \\cdot n.$$\n",
    "Эта случайная величина независима с $\\hat{a}_n, \\hat{U}_n \\sim \\chi^2$ с $n-1$ степенями свободы.\n",
    "\n",
    "Плотность $\\chi^2$ распределения с $n$ степенями свободы:\n",
    "$$\n",
    "t_n \\left( u \\right) =\n",
    "\\frac{1}{2^{\\frac{n}{2}} \\cdot \\Gamma \\left( \\frac{n}{2}\\right)} \\cdot u^{\\frac{n}{2} - 1} \\cdot e^{-\\frac{u}{2}},\n",
    "u \\geq 0,\n",
    "\\Gamma \\left( \\alpha \\right) = \\int \\limits_0^{\\infty } u^{\\alpha - 1} \\cdot e^{-u} du.\n",
    "$$\n",
    "\n",
    "Используем первый пункт леммы 1, или\n",
    "$$\\hat{V}_n = \\frac{\\hat{a}_n - a}{\\sigma} \\cdot \\sqrt{n} \\sim N \\left( 0, 1 \\right).$$\n",
    "Это означает, что $P \\left\\{ \\left| \\hat{V}_n \\right| < z\\right\\} = 2 \\Phi \\left( z \\right) = 1 - \\gamma,$\n",
    "где\n",
    "$$\\Phi \\left( z \\right) = \\frac{1}{\\sqrt{2\\pi}} \\int \\limits_0^z e^{-\\frac{u^2}{2}} du, z > 0.$$\n",
    "Это функция Лапласа.\n",
    "\n",
    "Из уравнения $2\\Phi \\left( z \\right) = 1 - \\gamma$ по таблицам находим $z_{\\gamma}$.\n",
    "Тогда $P \\left\\{ \\left| \\hat{V}_n \\right| < z_{\\gamma }\\right\\} = 1 - \\gamma$.\n",
    "\n",
    "Решаем уравнение относительно $a$.\n",
    "Получим симметрический доверительный интервал\n",
    "$$\\hat{a}_n - \\frac{z_{\\gamma} \\cdot \\sigma}{\\sqrt{n}} <\n",
    "a <\n",
    "\\hat{a}_n + \\frac{z_{\\gamma} \\cdot \\sigma}{\\sqrt{n}}.$$\n",
    "\n",
    "Можем не попасть в этот интервал с вероятностью $\\gamma$.\n",
    "\n",
    "Абсолютная погрешность:\n",
    "$$\\frac{z_{\\gamma} \\cdot \\sigma}{\\sqrt{n}}.$$"
   ]
  },
  {
   "cell_type": "code",
   "execution_count": 3,
   "metadata": {
    "collapsed": true
   },
   "outputs": [],
   "source": [
    "def mean_interval_known_sigma(n):\n",
    "    X = normal(a, sigma, n)\n",
    "    a_n = X.mean()\n",
    "    z = norm.ppf(1 - gamma / 2.)\n",
    "    left = a_n - z * sigma / sqrt(n)\n",
    "    right = a_n + z * sigma / sqrt(n)\n",
    "    length = right - left\n",
    "    print \"a_n:\", a_n\n",
    "    print \"mean 95%% confidence interval (theory), n =\", n, (left, right)\n",
    "    print \"mean 95%% confidence interval (python), n =\", n, _zconfint_generic(a_n, sigma / sqrt(n), gamma, 'two-sided')\n",
    "    print \"interval length:\", length\n",
    "    return length"
   ]
  },
  {
   "cell_type": "code",
   "execution_count": 4,
   "metadata": {},
   "outputs": [
    {
     "name": "stdout",
     "output_type": "stream",
     "text": [
      "a_n: 0.00768475116574\n",
      "mean 95%% confidence interval (theory), n = 100 (-0.188311647288261, 0.20368114961974981)\n",
      "mean 95%% confidence interval (python), n = 100 (-0.188311647288261, 0.20368114961974981)\n",
      "interval length: 0.391992796908\n"
     ]
    }
   ],
   "source": [
    "l1 = mean_interval_known_sigma(100)"
   ]
  },
  {
   "cell_type": "code",
   "execution_count": 5,
   "metadata": {},
   "outputs": [
    {
     "name": "stdout",
     "output_type": "stream",
     "text": [
      "a_n: -0.034917812978\n",
      "mean 95%% confidence interval (theory), n = 1000 (-0.096897316208423831, 0.027061690252488488)\n",
      "mean 95%% confidence interval (python), n = 1000 (-0.096897316208423817, 0.027061690252488481)\n",
      "interval length: 0.123959006461\n",
      "length ratio: 0.316227766017\n",
      "1 / sqrt(n2 / n1): 0.316227766017\n"
     ]
    }
   ],
   "source": [
    "l2 = mean_interval_known_sigma(1000)\n",
    "print \"length ratio:\", l2 / l1\n",
    "print \"1 / sqrt(n2 / n1):\", 1 / sqrt(10)"
   ]
  },
  {
   "cell_type": "code",
   "execution_count": 6,
   "metadata": {},
   "outputs": [
    {
     "name": "stdout",
     "output_type": "stream",
     "text": [
      "a_n: -0.0171234304067\n",
      "mean 95%% confidence interval (theory), n = 10000 (-0.036723070252090317, 0.0024762094387107622)\n",
      "mean 95%% confidence interval (python), n = 10000 (-0.036723070252090317, 0.0024762094387107622)\n",
      "interval length: 0.0391992796908\n",
      "length ratio: 0.316227766017\n",
      "1 / sqrt(n3 / n2): 0.316227766017\n"
     ]
    }
   ],
   "source": [
    "l3 = mean_interval_known_sigma(10000)\n",
    "print \"length ratio:\", l3 / l2\n",
    "print \"1 / sqrt(n3 / n2):\", 1 / sqrt(10)"
   ]
  },
  {
   "cell_type": "code",
   "execution_count": 7,
   "metadata": {},
   "outputs": [
    {
     "name": "stdout",
     "output_type": "stream",
     "text": [
      "a_n: -0.00200096921541\n",
      "mean 95%% confidence interval (theory), n = 100000 (-0.0081989195384545785, 0.0041969811076366529)\n",
      "mean 95%% confidence interval (python), n = 100000 (-0.0081989195384545785, 0.0041969811076366529)\n",
      "interval length: 0.0123959006461\n",
      "length ratio: 0.316227766017\n",
      "1 / sqrt(n4 / n3): 0.316227766017\n"
     ]
    }
   ],
   "source": [
    "l4 = mean_interval_known_sigma(100000)\n",
    "print \"length ratio:\", l4 / l3\n",
    "print \"1 / sqrt(n4 / n3):\", 1 / sqrt(10)"
   ]
  },
  {
   "cell_type": "markdown",
   "metadata": {},
   "source": [
    "При всех $n$ доверительный интервал накрывает $0$.\n",
    "Скорость сходимости доверительного интервала к истинному значению математического ожидания $a = 0$ равна\n",
    "$1 / \\sqrt{n}$.\n",
    "Результаты,\n",
    "полученные с помощью теоретических выкладок и функции `_zconfint_generic(mean, std_mean, gamma, alternative)`\n",
    "совпадают."
   ]
  },
  {
   "cell_type": "markdown",
   "metadata": {},
   "source": [
    "### б)\n",
    "для математического ожидания $a$, когда дисперсия неизвестна."
   ]
  },
  {
   "cell_type": "markdown",
   "metadata": {},
   "source": [
    "**Лемма 2** Определим\n",
    "\\begin{equation}\n",
    "\\hat{V}_n = \\frac{\\hat{a}_n - a}{ \\sigma} \\cdot \\sqrt{n}.\n",
    "\\end{equation}\n",
    "Тогда\n",
    "\\begin{equation}\n",
    "\\hat{Z}_n = \\sqrt{n - 1} \\cdot \\frac{\\hat{V}_n}{\\sqrt{\\hat{U}_n}}\n",
    "\\end{equation}\n",
    "имеет распределение Стьюдента с $n-1$ степенью свободы.\n",
    "Плотность распределения:\n",
    "\\begin{equation}\n",
    "S_n \\left( u \\right) =\n",
    "\\frac{\\Gamma \\left( \\frac{n + 1}{2}\\right)}{\\sqrt{n \\cdot \\pi} \\cdot \\Gamma \\left( \\frac{n}{2}\\right)} \\cdot\n",
    "\\left( 1 + \\frac{u^2}{n} \\right)^{-\\frac{n+1}{2}},\n",
    "-\\infty < u < +\\infty.\n",
    "\\end{equation}\n",
    "\n",
    "Используем лемму 2\n",
    "\\begin{equation}\n",
    "\\hat{Z}_n =\n",
    "\\sqrt{n-1} \\cdot \\frac{\\sqrt{n} \\cdot\n",
    "\\left( \\hat{a}_n - a\\right) \\cdot \\sigma}{\\sigma \\cdot \\sqrt{n} \\cdot \\hat{\\sigma}_n} =\n",
    "\\sqrt{n - 1} \\cdot \\frac{\\hat{a}_n - a}{\\hat{\\sigma}_n}.\n",
    "\\end{equation}\n",
    "Получается, что\n",
    "\\begin{equation}\n",
    "P \\left\\{ \\left| \\hat{Z}_n\\right| < z \\right\\} = 2 \\int \\limits_0^1 S_{n-1} \\left( u \\right) du = 1 - \\gamma.\n",
    "\\end{equation}\n",
    "Решаем:\n",
    "\\begin{equation}\n",
    "\\left| \\hat{Z}_n\\right| < z_{\\gamma} \\Rightarrow\n",
    "\\hat{a}_n - \\frac{z_{\\gamma} \\cdot \\hat{\\sigma}_n}{\\sqrt{n-1}} <\n",
    "a <\n",
    "\\hat{a}_n + \\frac{z_{\\gamma} \\cdot \\hat{\\sigma}_n}{\\sqrt{n-1}}.\n",
    "\\end{equation}\n",
    "Отличия:\n",
    "- дисперсию $\\sigma$ заменяем на оценку $\\hat{\\sigma}_n$;\n",
    "- $\\sqrt{n} \\to \\sqrt{n-1}$;\n",
    "- $N \\to S_{n-1}$, то есть $z_{\\gamma}$ вычисляется по другим таблицам."
   ]
  },
  {
   "cell_type": "code",
   "execution_count": 8,
   "metadata": {
    "collapsed": true
   },
   "outputs": [],
   "source": [
    "def mean_interval_unknown_sigma(n):\n",
    "    X = normal(a, sigma, n)\n",
    "    a_n = X.mean()\n",
    "    sigma_n = sqrt(((X - a_n) ** 2).mean())\n",
    "    z = t.ppf(1 - gamma / 2., n - 1)\n",
    "    left = a_n - z * sigma_n / sqrt(n - 1)\n",
    "    right = a_n + z * sigma_n / sqrt(n - 1)\n",
    "    length = right - left\n",
    "    print \"a_n:\", a_n\n",
    "    print \"mean 95%% confidence interval, n =\", n, (left, right)\n",
    "    print \"interval length:\", length\n",
    "    return length"
   ]
  },
  {
   "cell_type": "code",
   "execution_count": 9,
   "metadata": {},
   "outputs": [
    {
     "name": "stdout",
     "output_type": "stream",
     "text": [
      "a_n: -0.0560932599325\n",
      "mean 95%% confidence interval, n = 100 (-0.24449596041851518, 0.13230944055360455)\n",
      "interval length: 0.376805400972\n"
     ]
    }
   ],
   "source": [
    "l1 = mean_interval_unknown_sigma(100)"
   ]
  },
  {
   "cell_type": "code",
   "execution_count": 10,
   "metadata": {},
   "outputs": [
    {
     "name": "stdout",
     "output_type": "stream",
     "text": [
      "a_n: 0.00886906067715\n",
      "mean 95%% confidence interval, n = 1000 (-0.051673897871507106, 0.069412019225816787)\n",
      "interval length: 0.121085917097\n",
      "length ratio: 0.321348677023\n",
      "1 / sqrt(n2 / n1): 0.316227766017\n"
     ]
    }
   ],
   "source": [
    "l2 = mean_interval_unknown_sigma(1000)\n",
    "print \"length ratio:\", l2 / l1\n",
    "print \"1 / sqrt(n2 / n1):\", 1 / sqrt(10)"
   ]
  },
  {
   "cell_type": "code",
   "execution_count": 11,
   "metadata": {},
   "outputs": [
    {
     "name": "stdout",
     "output_type": "stream",
     "text": [
      "a_n: -0.00395281611868\n",
      "mean 95%% confidence interval, n = 10000 (-0.02328629128537018, 0.015380659048006652)\n",
      "interval length: 0.0386669503334\n",
      "length ratio: 0.319334826546\n",
      "1 / sqrt(n3 / n2): 0.316227766017\n"
     ]
    }
   ],
   "source": [
    "l3 = mean_interval_unknown_sigma(10000)\n",
    "print \"length ratio:\", l3 / l2\n",
    "print \"1 / sqrt(n3 / n2):\", 1 / sqrt(10)"
   ]
  },
  {
   "cell_type": "code",
   "execution_count": 12,
   "metadata": {},
   "outputs": [
    {
     "name": "stdout",
     "output_type": "stream",
     "text": [
      "a_n: 0.00566014133449\n",
      "mean 95%% confidence interval, n = 100000 (-0.00053458063489109867, 0.011854863303865946)\n",
      "interval length: 0.0123894439388\n",
      "length ratio: 0.320414302963\n",
      "1 / sqrt(n4 / n3): 0.316227766017\n"
     ]
    }
   ],
   "source": [
    "l4 = mean_interval_unknown_sigma(100000)\n",
    "print \"length ratio:\", l4 / l3\n",
    "print \"1 / sqrt(n4 / n3):\", 1 / sqrt(10)"
   ]
  },
  {
   "cell_type": "markdown",
   "metadata": {},
   "source": [
    "Скорость сходимости доверительного интервала к истинному значению математического ожидания $a = 0$ равна\n",
    "$\\frac{1}{\\sqrt{n}}$.\n",
    "Доверительный интервал всегда накрывает $0$."
   ]
  },
  {
   "cell_type": "markdown",
   "metadata": {},
   "source": [
    "### в)\n",
    "для математического ожидания $a$, когда распределение не $N \\left( 0, 1 \\right)$, то есть мы не знаем,\n",
    "что распределение нормальное.\n",
    "Просто есть последовательность $\\vec{X}$."
   ]
  },
  {
   "cell_type": "markdown",
   "metadata": {},
   "source": [
    "Считаем, что $M \\xi = a, D \\xi < \\infty $.\n",
    "\n",
    "Пользуемся центральной предельной теоремой.\n",
    "\n",
    "Пусть несмещённая оценка дисперсии (выборочная несмещённая дисперсия)\n",
    "\\begin{equation}\n",
    "\\hat{\\sigma}_n = \\frac{1}{n - 1} \\cdot \\left( \\sum \\limits_{i = 1}^n X_i^2 - \\frac{1}{n} \\cdot \\hat{a}_n^2 \\right).\n",
    "\\end{equation}\n",
    "Согласно центральной предельной теореме выходит\n",
    "\\begin{equation}\n",
    "P \\left\\{ \\sqrt{n} \\cdot \\frac{\\left| \\hat{a}_n - a \\right|}{\\sigma} < z \\right\\}\n",
    "\\overset{n \\to \\infty }{\\to} \\Phi \\left( z \\right) =\n",
    "1 - \\gamma.\n",
    "\\end{equation}\n",
    "В этом случае будем строить ассимптотические доверительные интервалы\n",
    "\\begin{equation}\n",
    "\\hat{a}_n - \\frac{z_{\\gamma} \\cdot \\sigma}{\\sqrt{n}} < a < \\hat{a}_n + \\frac{z_{\\gamma} \\cdot \\sigma}{ \\sqrt{n}}.\n",
    "\\end{equation}\n",
    "Проблема в том, что $\\sigma$ неизвестно.\n",
    "На практике заменяют $\\sigma$ на $\\hat{\\sigma}_n$, то есть доверительный интервал строится таким образом\n",
    "\\begin{equation}\n",
    "\\hat{a}_n - \\frac{z_{\\gamma} \\cdot \\hat{\\sigma}_n}{\\sqrt{n}} <\n",
    "a <\n",
    "\\hat{a}_n + \\frac{z_{\\gamma} \\cdot \\hat{\\sigma}_n}{\\sqrt{n}},\n",
    "\\end{equation}\n",
    "где $z_{\\gamma}$ находится через функцию Лапласа."
   ]
  },
  {
   "cell_type": "code",
   "execution_count": 13,
   "metadata": {
    "collapsed": true
   },
   "outputs": [],
   "source": [
    "def mean_interval_unknown_distribution(n):\n",
    "    X = normal(a, sigma, n)\n",
    "    a_n = X.mean()\n",
    "    sigma_n = (sum(X ** 2) - mean(a_n ** 2)) / (n - 1)\n",
    "    z = norm.ppf(1 - gamma)\n",
    "    left = a_n - z * sigma_n / sqrt(n)\n",
    "    right = a_n + z * sigma_n / sqrt(n)\n",
    "    length = right - left\n",
    "    print \"a_n:\", a_n\n",
    "    print \"mean 95%% confidence interval, n =\", n, (left, right)\n",
    "    print \"interval length:\", length\n",
    "    return length"
   ]
  },
  {
   "cell_type": "code",
   "execution_count": 14,
   "metadata": {},
   "outputs": [
    {
     "name": "stdout",
     "output_type": "stream",
     "text": [
      "a_n: 0.0172912234183\n",
      "mean 95%% confidence interval, n = 100 (-0.21558736424901229, 0.2501698110856535)\n",
      "interval length: 0.465757175335\n"
     ]
    }
   ],
   "source": [
    "l1 = mean_interval_unknown_distribution(100)"
   ]
  },
  {
   "cell_type": "code",
   "execution_count": 15,
   "metadata": {},
   "outputs": [
    {
     "name": "stdout",
     "output_type": "stream",
     "text": [
      "a_n: 0.0374831240923\n",
      "mean 95%% confidence interval, n = 1000 (-0.013183284361763872, 0.088149532546289822)\n",
      "interval length: 0.101332816908\n",
      "length ratio: 0.217565766615\n",
      "1 / sqrt(n2 / n1): 0.316227766017\n"
     ]
    }
   ],
   "source": [
    "l2 = mean_interval_unknown_distribution(1000)\n",
    "print \"length ratio:\", l2 / l1\n",
    "print \"1 / sqrt(n2 / n1):\", 1 / sqrt(10)"
   ]
  },
  {
   "cell_type": "code",
   "execution_count": 16,
   "metadata": {},
   "outputs": [
    {
     "name": "stdout",
     "output_type": "stream",
     "text": [
      "a_n: -0.00734559772542\n",
      "mean 95%% confidence interval, n = 10000 (-0.023848820815587125, 0.0091576253647438644)\n",
      "interval length: 0.0330064461803\n",
      "length ratio: 0.325723168342\n",
      "1 / sqrt(n3 / n2): 0.316227766017\n"
     ]
    }
   ],
   "source": [
    "l3 = mean_interval_unknown_distribution(10000)\n",
    "print \"length ratio:\", l3 / l2\n",
    "print \"1 / sqrt(n3 / n2):\", 1 / sqrt(10)"
   ]
  },
  {
   "cell_type": "code",
   "execution_count": 17,
   "metadata": {},
   "outputs": [
    {
     "name": "stdout",
     "output_type": "stream",
     "text": [
      "a_n: 0.00131147612893\n",
      "mean 95%% confidence interval, n = 100000 (-0.0038809196193899261, 0.0065038718772489259)\n",
      "interval length: 0.0103847914966\n",
      "length ratio: 0.314629192125\n",
      "1 / sqrt(n4 / n3): 0.316227766017\n"
     ]
    }
   ],
   "source": [
    "l4 = mean_interval_unknown_distribution(100000)\n",
    "print \"length ratio:\", l4 / l3\n",
    "print \"1 / sqrt(n4 / n3):\", 1 / sqrt(10)"
   ]
  },
  {
   "cell_type": "markdown",
   "metadata": {},
   "source": [
    "Скорость сходимости доверительного интервала к истинному значению математического ожидания $a = 0$ равна\n",
    "$\\frac{1}{\\sqrt{n}}$.\n",
    "Доверительный интервал всегда накрывает $0$."
   ]
  },
  {
   "cell_type": "markdown",
   "metadata": {},
   "source": [
    "## Задание 2\n",
    "При заданных $n$ строим доверительный интервал для дисперсии $\\sigma^2 = 1$ (в допущении $N \\left( 0, 1 \\right)$).\n",
    "Действительно ли он сужается и с какой скоростью?\n",
    "Действительно ли этот интервал накрывает единицу?"
   ]
  },
  {
   "cell_type": "markdown",
   "metadata": {},
   "source": [
    "Используем вторую часть первой леммы.\n",
    "\n",
    "В данном случае дисперсия принимает значения только больше нуля, $\\chi^2$ распределение не симметрично.\n",
    "Оно имеет вид:\n",
    "![chi-squared distribution](chi-squared.jpg)\n",
    "Нужно строить такой доверительный интервал,\n",
    "чтобы расстояние между точками $z_{\\gamma}^{\\left( 1 \\right)}$ и $z_{\\gamma}^{\\left( 2 \\right)}$ было маленьким:\n",
    "\\begin{equation}\n",
    "\\int \\limits_0^{z_{\\gamma}^{\\left( 1 \\right)}} t_{n-1} \\left( u \\right) du = \\frac{\\gamma}{2}, \n",
    "\\int \\limits_{z_{\\gamma}^{\\left( 2 \\right)}} t_{n - 1} \\left( u \\right) du = \\frac{\\gamma}{2}.\n",
    "\\end{equation}\n",
    "При заданном $\\gamma$ из этих уравнений находим $z_{\\gamma}^{\\left( 1 \\right) }$ и $z_{\\gamma}^{\\left( 2 \\right)}$.\n",
    "Получается,\n",
    "что $P \\left\\{ z_{\\gamma}^{\\left( 1 \\right) } < \\hat{U}_n < z_{\\gamma}^{\\left( 2 \\right) } \\right\\} = 1 - \\gamma$.\n",
    "\n",
    "Доверительный интервал для дисперсии\n",
    "\\begin{equation}\n",
    "\\frac{\\left( n - 1 \\right) \\cdot \\hat{\\sigma}_n^2}{z_{\\gamma n}^{\\left( 2 \\right)}} <\n",
    "\\sigma^2 <\n",
    "\\frac{\\left( n - 1 \\right) \\cdot \\hat{\\sigma}_n^2}{z_{\\gamma n}^{\\left( 2 \\right) }}.\n",
    "\\end{equation}\n",
    "Когда увеличиваем $n$, увеличивабтся $z_{\\gamma n}^{\\left( i \\right) }$.\n",
    "Сам интервал сужается."
   ]
  },
  {
   "cell_type": "code",
   "execution_count": 18,
   "metadata": {
    "collapsed": true
   },
   "outputs": [],
   "source": [
    "def variance_interval(n):\n",
    "    X = normal(a, sigma, n)\n",
    "    a_n = X.mean()\n",
    "    sigma_n = (sum(X ** 2) - mean(a_n ** 2)) / (n - 1)\n",
    "    z1 = chi2.ppf(gamma / 2, n - 1)\n",
    "    z2 = chi2.ppf(1 - gamma / 2, n - 1)\n",
    "    left = (n - 1) * sigma_n / z2\n",
    "    right = (n - 1) * sigma_n / z1\n",
    "    length = right - left\n",
    "    print \"sigma_n:\", sigma_n\n",
    "    print \"variance 95%% confidence interval, n =\", n, (left, right)\n",
    "    print \"interval length:\", length\n",
    "    return length"
   ]
  },
  {
   "cell_type": "code",
   "execution_count": 19,
   "metadata": {},
   "outputs": [
    {
     "name": "stdout",
     "output_type": "stream",
     "text": [
      "sigma_n: 0.891039945041\n",
      "variance 95%% confidence interval, n = 100 (0.6868991478064187, 1.2024489597079353)\n",
      "interval length: 0.515549811902\n"
     ]
    }
   ],
   "source": [
    "l1 = variance_interval(100)"
   ]
  },
  {
   "cell_type": "code",
   "execution_count": 20,
   "metadata": {},
   "outputs": [
    {
     "name": "stdout",
     "output_type": "stream",
     "text": [
      "sigma_n: 0.978816811257\n",
      "variance 95%% confidence interval, n = 1000 (0.89834599182619179, 1.0706634464038731)\n",
      "interval length: 0.172317454578\n",
      "length ratio: 0.334240165741\n",
      "1 / sqrt(n2 / n1): 0.316227766017\n"
     ]
    }
   ],
   "source": [
    "l2 = variance_interval(1000)\n",
    "print \"length ratio:\", l2 / l1\n",
    "print \"1 / sqrt(n2 / n1):\", 1 / sqrt(10)"
   ]
  },
  {
   "cell_type": "code",
   "execution_count": 21,
   "metadata": {},
   "outputs": [
    {
     "name": "stdout",
     "output_type": "stream",
     "text": [
      "sigma_n: 0.989411207207\n",
      "variance 95%% confidence interval, n = 10000 (0.96254801030453163, 1.0174203093747727)\n",
      "interval length: 0.0548722990702\n",
      "length ratio: 0.318437265712\n",
      "1 / sqrt(n3 / n1): 0.316227766017\n"
     ]
    }
   ],
   "source": [
    "l3 = variance_interval(10000)\n",
    "print \"length ratio:\", l3 / l2\n",
    "print \"1 / sqrt(n3 / n1):\", 1 / sqrt(10)"
   ]
  },
  {
   "cell_type": "code",
   "execution_count": 22,
   "metadata": {},
   "outputs": [
    {
     "name": "stdout",
     "output_type": "stream",
     "text": [
      "sigma_n: 0.999561552653\n",
      "variance 95%% confidence interval, n = 100000 (0.99085766366474382, 1.0083811675783911)\n",
      "interval length: 0.0175235039136\n",
      "length ratio: 0.319350641591\n",
      "1 / sqrt(n4 / n3): 0.316227766017\n"
     ]
    }
   ],
   "source": [
    "l4 = variance_interval(100000)\n",
    "print \"length ratio:\", l4 / l3\n",
    "print \"1 / sqrt(n4 / n3):\", 1 / sqrt(10)"
   ]
  },
  {
   "cell_type": "markdown",
   "metadata": {},
   "source": [
    "Интервал сужается к истинному значению дисперсии $\\sigma^2 = 1$ со скоростью $\\frac{1}{\\sqrt{n}}$.\n",
    "Этот интервал действительно покрывает единицу."
   ]
  },
  {
   "cell_type": "markdown",
   "metadata": {},
   "source": [
    "## Задание 3\n",
    "Хотим вычислить величину\n",
    "$I = P \\left( \\xi < \\eta \\right), \\xi \\sim F \\left( u \\right), \\eta \\sim G \\left( u \\right)$,\n",
    "где $F \\left( u \\right)$ и $G \\left( u \\right) $ --- функции распределения.\n",
    "$\\xi \\geq 0$ и $\\eta > 0$ --- независимы.\n",
    "Фиксируем $\\xi$:\n",
    "\\begin{equation}\n",
    "I = \\int \\limits_0^{\\infty} F \\left( u \\right) dG \\left( u \\right) = MF \\left( \\eta \\right).\n",
    "\\end{equation}\n",
    "Фиксируем $\\xi$:\n",
    "\\begin{equation}\n",
    "I = \\int \\limits_0^{\\infty } \\left[ 1 - G \\left( u \\right) \\right] dF \\left( u \\right) =\n",
    "M \\left[ 1 - G \\left( \\xi \\right)\\right].\n",
    "\\end{equation}\n",
    "Если $\\xi \\gg \\eta$ в среднем, то $\\xi < \\eta$ очень редко.\n",
    "\n",
    "В первом случае дисперсия будет пропорциональна $p^2$.\n",
    "\n",
    "Возьмём конкретные функции распределения: $F \\left( u \\right) = 1 - e^{- \\left( \\alpha \\cdot u\\right)^2}, u \\geq 0$ --- распределение Вейбулла (Weibull), $G \\left( u \\right) = 1 - e^{-u^3}, u \\geq 0$.\n",
    "\n",
    "Чтобы сгенерировать $\\xi$, нужно приравнять $1 - e^{-\\left( \\alpha \\cdot u \\right)^2}$ к $1 - \\omega $,\n",
    "чтобы найти $u$, то есть\n",
    "\\begin{equation}\n",
    "\\xi = -\\frac{1}{\\alpha} \\cdot \\left( \\ln \\omega \\right)^{\\frac{1}{2}} \\sim F \\left( u \\right).\n",
    "\\end{equation}\n",
    "\n",
    "$P \\left\\{ \\xi < u\\right\\} =\n",
    "P \\left\\{ F^{-1} \\left( \\omega \\right) < u \\right\\} =\n",
    "P \\left\\{ \\omega < F \\left( u \\right) \\right\\} =\n",
    "F \\left( u \\right),\n",
    "\\eta = - \\left( \\ln \\omega \\right)^{\\frac{1}{3}}$.\n",
    "\n",
    "Хотим вычислить интеграл методом Монте-Карло.\n",
    "Уровень доверия возьмём $\\gamma = 0.05$.\n",
    "\n",
    "Относительную погрешность возьмём 1%, то есть $\\varepsilon = 0.01$.\n",
    "\n",
    "Для первого способа оценка интеграла\n",
    "\\begin{equation}\n",
    "\\hat{I}_n^{\\left( 1 \\right) } = \\frac{1}{n} \\sum \\limits_{i=1}^n F \\left( \\eta_i \\right),\n",
    "\\alpha = 0.1, 0.01, 0.001. \n",
    "\\end{equation}\n",
    "Вычислить $I$ точно.\n",
    "Для каждого из способов найти $n$, когда относительная погрешность оценки --- 1%\n",
    "\\begin{equation}\n",
    "n^* = \\min n \\geq n_0: n \\geq \\frac{z_{\\gamma}^2 \\cdot \\hat{\\sigma}_n^2}{\\varepsilon^2 \\cdot \\hat{I}_n^2}.\n",
    "\\end{equation}\n",
    "В первом случае $n_0 = 100$.\n",
    "\n",
    "Во втором случае $n_0$ в зависимости от $\\alpha$ нужно увеличивать, например, $n_0 = 1000, 10000, 100000$,\n",
    "чтобы дисперсия была устойчивой."
   ]
  },
  {
   "cell_type": "code",
   "execution_count": 23,
   "metadata": {
    "collapsed": true
   },
   "outputs": [],
   "source": [
    "def variance(array):\n",
    "    return sum(array - mean(array)) ** 2 / (array.shape[0])"
   ]
  },
  {
   "cell_type": "code",
   "execution_count": 24,
   "metadata": {
    "collapsed": true
   },
   "outputs": [],
   "source": [
    "def generate_F(n, alpha = 0.1):\n",
    "    return ((-log(rand(n))) ** 0.5) / alpha"
   ]
  },
  {
   "cell_type": "code",
   "execution_count": 25,
   "metadata": {
    "collapsed": true
   },
   "outputs": [],
   "source": [
    "def generate_G(n):\n",
    "    return (-log(rand(n))) ** (1 / 3.)"
   ]
  },
  {
   "cell_type": "code",
   "execution_count": 26,
   "metadata": {
    "collapsed": true
   },
   "outputs": [],
   "source": [
    "def F(u, alpha=0.1):\n",
    "    return 1 - exp(-(alpha * u) ** 2)"
   ]
  },
  {
   "cell_type": "code",
   "execution_count": 27,
   "metadata": {
    "collapsed": true
   },
   "outputs": [],
   "source": [
    "def one_minus_G(u):\n",
    "    return exp(-u ** 3)"
   ]
  },
  {
   "cell_type": "markdown",
   "metadata": {},
   "source": [
    "Надём точное значение интеграла, представленного первым способом."
   ]
  },
  {
   "cell_type": "code",
   "execution_count": 28,
   "metadata": {
    "collapsed": true
   },
   "outputs": [],
   "source": [
    "def integrand_1(u):\n",
    "    return 3 * (1 - exp(-(0.1 * u) ** 2)) * u **2 * exp(-u ** 3)"
   ]
  },
  {
   "cell_type": "code",
   "execution_count": 29,
   "metadata": {},
   "outputs": [
    {
     "name": "stdout",
     "output_type": "stream",
     "text": [
      "The exact value of first integral: 0.00896825263134\n"
     ]
    }
   ],
   "source": [
    "print \"The exact value of first integral:\", quad(integrand_1, 0, inf)[0]"
   ]
  },
  {
   "cell_type": "markdown",
   "metadata": {},
   "source": [
    "Найдём точное значение интеграла, представленного вторым способом."
   ]
  },
  {
   "cell_type": "code",
   "execution_count": 30,
   "metadata": {
    "collapsed": true
   },
   "outputs": [],
   "source": [
    "def integrand_2(u):\n",
    "    return 2 * 0.1 ** 2 * u * exp(-(0.1 * u) ** 2 - u ** 3)"
   ]
  },
  {
   "cell_type": "code",
   "execution_count": 31,
   "metadata": {},
   "outputs": [
    {
     "name": "stdout",
     "output_type": "stream",
     "text": [
      "The exact value of second integral: 0.00896825263134\n"
     ]
    }
   ],
   "source": [
    "print \"The exact value of second integral:\", quad(integrand_2, 0, inf)[0]"
   ]
  },
  {
   "cell_type": "code",
   "execution_count": 32,
   "metadata": {
    "collapsed": true
   },
   "outputs": [],
   "source": [
    "def find_size(sample):\n",
    "    epsilon = 0.01\n",
    "    z = norm.ppf(1 - gamma / 2.)\n",
    "    sum1 = 0\n",
    "    sum2 = 0\n",
    "    n = 100\n",
    "    for x in sample:\n",
    "        sum1 += x\n",
    "        sum2 += x * x\n",
    "        n += 1\n",
    "        \n",
    "        if n < 2: continue\n",
    "        sigma2 = float(1) / (n - 1) * (sum2 - float(sum1 ** 2) / n)\n",
    "        a = float(sum1) / n\n",
    "        crit = float(z * z * sigma2) / (a * a * epsilon * epsilon)\n",
    "        \n",
    "        if n > crit:\n",
    "            break\n",
    "    return n"
   ]
  },
  {
   "cell_type": "code",
   "execution_count": 33,
   "metadata": {},
   "outputs": [
    {
     "name": "stdout",
     "output_type": "stream",
     "text": [
      "real value: 0.00896238144598\n",
      "true value: 0.00896825263134\n",
      "n: 17909\n",
      "lies in the interval\n"
     ]
    }
   ],
   "source": [
    "true_value = quad(integrand_1, 0, inf)[0]\n",
    "sample = F(generate_G(10 ** 5), alpha=0.1)\n",
    "#sample = one_minus_G(generate_F(10 ** 7))\n",
    "n = find_size(sample)\n",
    "real_value = mean(sample[:n])\n",
    "print \"real value:\", real_value\n",
    "print \"true value:\", true_value\n",
    "print \"n:\", n\n",
    "if true_value > 0.99 * real_value and true_value < 1.01 * real_value:\n",
    "    print('lies in the interval')"
   ]
  }
 ],
 "metadata": {
  "kernelspec": {
   "display_name": "Python 2",
   "language": "python",
   "name": "python2"
  },
  "language_info": {
   "codemirror_mode": {
    "name": "ipython",
    "version": 2
   },
   "file_extension": ".py",
   "mimetype": "text/x-python",
   "name": "python",
   "nbconvert_exporter": "python",
   "pygments_lexer": "ipython2",
   "version": "2.7.13"
  }
 },
 "nbformat": 4,
 "nbformat_minor": 2
}
