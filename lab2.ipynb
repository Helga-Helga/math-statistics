{
 "cells": [
  {
   "cell_type": "markdown",
   "metadata": {},
   "source": [
    "# Лабораторная работа №2"
   ]
  },
  {
   "cell_type": "markdown",
   "metadata": {},
   "source": [
    "## Задание 1\n",
    "$\\gamma = 0.05$.\n",
    "Используя критерий $\\chi^2$ проверить гипотезу о стандартном нормальном распределении.\n",
    "\n",
    "Генерируем $\\left\\{ X_i \\right\\} \\sim N \\left( 0, 1 \\right)$.\n",
    "\n",
    "Выбираем $n \\geq 100, 20 \\leq r \\leq 50$.\n",
    "Области выбираем таким образом, чтобы $n \\cdot p_i \\geq 5$."
   ]
  },
  {
   "cell_type": "markdown",
   "metadata": {},
   "source": [
    "### Гипотеза о виде распределения. Критерий $\\chi^2$ Пирсона\n",
    "Критерий $\\chi^2$ (Колмогорова) используется для проверки простой гипотезы.\n",
    "\n",
    "Критерий Пирсона является универсальным критерием.\n",
    "\n",
    "Критерий Пирсона работает для дискретных случайных величин, которые принимают конечное число значений.\n",
    "\n",
    "Пусть есть случайная величина $X$, которая принимает значения в\n",
    "$\\mathbb{R} = \\left( -\\infty, +\\infty \\right) = \\bigcup \\limits_{i=1}^r U_i, \\, U_i \\cap U_j = \\emptyset$.\n",
    "\n",
    "Есть вектор наблюдений $\\vec{X}$ и реализации $\\vec{x}$.\n",
    "По реализациям знаем количество точек $\\nu_i$, которые попали в каждый промежуток,\n",
    "$$\\sum \\limits_{i=1}^n \\nu_i = n.$$\n",
    "\n",
    "Составляем меру Пирсона\n",
    "$$\\Delta_n^{\\left(r\\right)} \\left( \\vec{X} \\right) =\n",
    "\\sum \\limits_{i=1}^r \\frac{\\left( \\nu_i - n \\cdot p_i \\right)^2}{n \\cdot p_i} =\n",
    "\\sum \\limits_{i=1}^r \\frac{\\nu_i^2}{n \\cdot p_i} - n,$$\n",
    "где\n",
    "$$p_i = \\int \\limits_{U_i} dF \\left( u \\right), \\, \\sum \\limits_{i=1}^r p_i = 1.$$\n",
    "\n",
    "Теорема Пирсона.\n",
    "$$\\lim \\limits_{n\\to \\infty} P \\left\\{ \\Delta_n^{\\left( r \\right)} \\left( \\vec{X} \\right) < z \\; \\middle| \\; H_0 \\right\\} = T_{r - 1} \\left( z \\right),$$\n",
    "где $T_{n-1} \\left( z \\right)$ --- $\\chi^2$-распределение с $\\left( r-1 \\right)$ степенью свободы.\n",
    "\n",
    "Критерий проверки простой гипотезы:\n",
    "\n",
    "1) задаём $\\gamma$ --- оценка для погрешности первого рода;\n",
    "\n",
    "2) решаем $T_{r-1}\\left( z\\right) = 1 - \\gamma$.\n",
    "Отсюда находим $z_{\\gamma}$;\n",
    "\n",
    "3) критическая область\n",
    "$\\mathbb{Z}_1 = \\left\\{ \\vec{x}: \\Delta_n^{\\left(r\\right)} \\left( \\vec{x} \\right) > z_{\\gamma}\\right\\}$.\n",
    "\n",
    "Не определено, какое количество областей нужно выбирать и каким образом их выбирать.\n",
    "\n",
    "Этот критерий состоятельный,\n",
    "то есть с увеличением наблюдений (при $n \\to \\infty$) ошибка второго рода стремится к нулю."
   ]
  },
  {
   "cell_type": "code",
   "execution_count": 40,
   "metadata": {
    "collapsed": true
   },
   "outputs": [],
   "source": [
    "from numpy.random import normal, uniform\n",
    "from numpy import histogram, where, array, exp, sqrt\n",
    "from scipy.stats import chi2, norm\n",
    "from scipy.special import kolmogi"
   ]
  },
  {
   "cell_type": "code",
   "execution_count": 2,
   "metadata": {},
   "outputs": [
    {
     "name": "stdout",
     "output_type": "stream",
     "text": [
      "delta: 4.86654220287e-30\n",
      "z_gamma: 10.1170130639\n",
      "x has N(0, 1) distribution\n"
     ]
    }
   ],
   "source": [
    "x = normal(size=1300)\n",
    "r = 20\n",
    "gamma = 0.05\n",
    "nu = histogram(x, bins=r)[0]\n",
    "U = histogram(x, bins=r)[1]\n",
    "p = array([float(n) / (x.shape[0]) for n in nu])\n",
    "delta = 0\n",
    "for i in range(0, r):\n",
    "    delta += (nu[i] - x.shape[0] * p[i]) ** 2 / (x.shape[0] * p[i])\n",
    "z = chi2.ppf(gamma, r - 1)\n",
    "print \"delta:\", delta\n",
    "print \"z_gamma:\", z\n",
    "if delta < z:\n",
    "    print \"x has N(0, 1) distribution\"\n",
    "else:\n",
    "    print \"x doesn't have N(0, 1) distribution\""
   ]
  },
  {
   "cell_type": "markdown",
   "metadata": {},
   "source": [
    "## Задание 2\n",
    "Используя критерий пустых ящиков проверить нулевую гипотезу $H_0$ про равномерное распределение,\n",
    "то есть что наблюдения $\\left\\{ X_i \\right\\}$ имеют равномерное распределение на $\\left[ 0, 1 \\right]$.\n",
    "\n",
    "Пусть\n",
    "$$\\rho = \\frac{n}{r} = 2.$$\n",
    "\n",
    "Применяем критерий при $n = 40, r = 20$ (используем ассимптотику, то есть теорему),\n",
    "$n = 400, r = 200, n = 4000, r = 2000$."
   ]
  },
  {
   "cell_type": "markdown",
   "metadata": {},
   "source": [
    "### Гипотеза о виде распределения. Критерий пустых ящиков\n",
    "\n",
    "Проверяем простую гипотезу $H_0: \\, \\eta \\sim F \\left( \\cdot \\right)$.\n",
    "\n",
    "Допустим, что функция $F \\left( \\cdot \\right)$ имеет обратную, то есть $\\exists F^{-1}\\left( \\cdot \\right)$.\n",
    "\n",
    "Это так, когда $\\exists f \\left( \\cdot \\right)$ --- плотность распределения,\n",
    "$f \\left( u \\right) > 0, \\, f \\left( \\cdot \\right) $ --- абсолютно непрерывна.\n",
    "\n",
    "Эта гипотеза эквивалентна гипотезе $H_0: \\, \\xi = F \\left( \\eta \\right) $ равномерно распределена на\n",
    "$\\left[ 0, 1 \\right] $.\n",
    "Докажем это.\n",
    "Рассмотрим распределение этой величины\n",
    "$P \\left\\{ \\xi = F \\left( \\eta \\right) < u \\right\\} =\n",
    "P \\left\\{ \\eta \\leq F^{-1} \\left( u \\right) \\right\\} =\n",
    "F \\left( F^{-1} \\left( u \\right) \\right) =\n",
    "u$.\n",
    "Очевидно, что $\\xi \\in \\left[ 0, 1 \\right]$, то есть это равномерное распределение.\n",
    "Доказательство окончено.\n",
    "\n",
    "Если есть выборка $\\vec{X} = \\left( X_1, \\dotsc, X_n \\right)$, то проверить, что $\\vec{X}$ имеет распределение $F \\left( \\cdot \\right) $ --- это то же самое, что проверить,\n",
    "что $\\vec{F \\left( X \\right)} = \\left( F \\left( X_1 \\right), \\dotsc, F \\left( X_n \\right) \\right) $\n",
    "имеет равномерное распределение.\n",
    "\n",
    "Разобьём промежуток $\\left[ 0, 1 \\right] $ на $r$ равных частей.\n",
    "$H_0: \\, \\xi$ имеет равномерное распределение на $\\left[ 0, 1 \\right] $.\n",
    "Обозначим $\\mu_o \\left( n, r \\right)$ --- количество отрезков, где нет ни одного наблюдения\n",
    "(количество пустых ящиков), где $n$ --- количество частиц.\n",
    "\n",
    "Обозначим $\\nu_i$ --- количество частицв промежутке $U_i$.\n",
    "\n",
    "Тогда\n",
    "$$\\mu_0 \\left( n, r \\right) = \\sum \\limits_{i=1}^r \\mathbb{1} \\left\\{ \\nu_i = 0 \\right\\}.$$\n",
    "Эти величины являются зависимыми.\n",
    "\n",
    "Вычислим $M\\mu_0 \\left( n, r \\right)$.\n",
    "Математическое ожидание от индикатора --- это вероятность, распределение одинаковое.\n",
    "Допустим, что $\\xi$ имеет произвольное распределение, сосредоточенное на $\\left[ 0, 1 \\right]$,\n",
    "Тогда $p_i = P \\left( \\xi \\in U_i \\right), \\, i = \\overline{1, r}$.\n",
    "$$M \\mu_0 \\left( n, r \\right) =\n",
    "\\sum \\limits_{i=1}^r P \\left( \\nu_i = 0 \\right) =\n",
    "\\sum \\limits_{i=1}^r \\left( 1 - p_i \\right)^n.$$\n",
    "\n",
    "Посмотрим, при каком распределении эта величина является минимальной:\n",
    "$$\\sum \\limits_{i=1}^r \\left( 1 - p_i \\right)^n \\Rightarrow \\min \\limits_{\\left\\{ p_i \\right\\}}.$$\n",
    "\n",
    "Если распределение является равномерным, то количество пустых ящиков минимально.\n",
    "Докажем это.\n",
    "Покажем, что минимум математического ожидания достигается, когда все $p_i$ равны $1 / r$.\n",
    "Будем помнить, что $p_1 + \\dotsc + p_r = 1$.\n",
    "Берём производную по $p_i, \\, o = \\overline{1, r - 1}: \\, -n \\cdot \\left( 1 - p_i \\right)^{n - 1} + n \\cdot \\left( p_1 + \\dotsc + p_{r-1} \\right)^{n-1} = 0, \\, i = \\overline{1, r-1}$.\n",
    "Получается, что все $p_i = p_r, \\, i = \\overline{1, r}$, то есть все они одинаковы.\n",
    "Получается, что\n",
    "$$p_i = \\frac{1}{r}, \\, i = \\overline{1, r}.$$\n",
    "Доказательство окончено.\n",
    "\n",
    "Если распределение равномерное, то\n",
    "$$M \\mu_0 \\left( n, r \\right) = r \\cdot \\left( 1 - \\frac{1}{r} \\right)^n.$$\n",
    "Это минимальное значение математического ожидания.\n",
    "\n",
    "Критическая область $\\mathbb{Z}_1 = \\left\\{ k: k \\geq k^* \\right\\}$, где $k$ ---- это количество пустых ящиков.\n",
    "Если количество пустых ящиков превышает $k^*$, то гипотезу должны отбросить.\n",
    "\n",
    "$P \\left\\{ \\mu_0 \\left( n, r \\right) >= k^* \\right\\} \\leq \\gamma$.\n",
    "\n",
    "Отсюда вычисляем\n",
    "$$k^* =\n",
    "arg \\min\\left\\{ k: \\, \\sum \\limits_{j=k}^r P \\left\\{ \\mu_0 \\left( n, r \\right) = j\\right\\}\\leq \\gamma \\right\\}.$$\n",
    "\n",
    "Если $k$ уменьшаем, то сумма увеличивается.\n",
    "\n",
    "Если $k < k^*$, гипотезу принимаем.\n",
    "\n",
    "Чтобы воспользоваться критерием, нужно найти $k^*$.\n",
    "Применяя формулу включений и исключений, получаем\n",
    "$$P \\left\\{ \\mu_0 \\left( n, r \\right) = k\\right\\} =\n",
    "C_r^k \\sum \\limits_{j=0}^{r-k} \\left( -1 \\right)^j \\cdot C_{r-k}^j \\cdot \\left( 1 - \\frac{k+j}{r} \\right)^n.$$\n",
    "\n",
    "**Теорема.**\n",
    "Допустим, что $n, r \\to \\infty $ таким образом, что\n",
    "$$\\frac{n}{r} \\to \\rho > 0.$$\n",
    "Тогда допустим, что начальное распределение случайной величины $\\xi$ не обязательно равномерное,\n",
    "но $\\xi \\sim f \\left( u \\right)$ на $\\left[ 0, 1 \\right]$.\n",
    "Тогда\n",
    "$$\\frac{\\mu_0 \\left( n, r \\right) - r \\cdot m \\left( f \\right)}{\\sqrt{r} \\cdot \\sigma \\left( f \\right)} \\sim\n",
    "N \\left( 0, 1 \\right),$$\n",
    "где\n",
    "$$m \\left( f \\right) =\n",
    "\\int \\limits_0^1 e^{-\\rho \\cdot f \\left( u \\right)} \\cdot\n",
    "\\left[ 1 - e^{-\\rho \\cdot f \\left( u \\right)} \\right] du,$$\n",
    "где $f \\left( \\cdot \\right)$ --- плотность распределения,\n",
    "$$\\sigma^2 \\left( f \\right) =\n",
    "\\int \\limits_0^1 e^{}-\\rho \\cdot f \\left( u \\right) \\cdot \\left[ 1 - e^{-\\rho \\cdot f \\left( u \\right)} \\right] du\n",
    "- \\rho \\cdot \\left[ \\int \\limits_0^1 f \\left( u \\right) \\cdot e^{-\\rho \\cdot f \\left( u \\right) } du\\right]^2.$$\n",
    "\n",
    "Если $f \\left( u \\right) \\equiv u$, то есть распределение равномерное, то\n",
    "$m \\left( f \\right) = e^{-\\rho},\n",
    "\\sigma^2 \\left( f\\right) = e^{-\\rho} \\cdot \\left[ 1 - \\left( 1 + \\rho \\right) \\cdot e^{-\\rho}\\right]$.\n",
    "\n",
    "$\\mathbb{Z}_1 =\n",
    "\\left\\{ k: \\, k >\n",
    "r \\cdot e^{-\\rho} +\n",
    "z_{\\gamma} \\cdot \\sqrt{r \\cdot e^{-\\rho} \\cdot \\left[ 1 - \\left( 1 + \\rho \\right) \\cdot e^{-\\rho}\\right]}\\right\\}$,\n",
    "где $z_{\\gamma}$ --- решение уравнения $\\Phi \\left( z_{\\gamma} \\right) = 0.5 - \\gamma$."
   ]
  },
  {
   "cell_type": "code",
   "execution_count": 33,
   "metadata": {},
   "outputs": [],
   "source": [
    "def is_uniform(n, r):\n",
    "    x = uniform(size=n)\n",
    "    nu = histogram(x, bins=r)[0]\n",
    "    U = histogram(x, bins=r)[1]\n",
    "    mu = len(where(nu == 0)[0])\n",
    "    print \"mu:\", mu\n",
    "    rho = float(n) / r\n",
    "    z = norm.ppf(1 - gamma / 2.)\n",
    "    k = r * exp(-rho) + z * sqrt(r * exp(-rho) * (1 - (1 + rho) * exp(-rho)))\n",
    "    print \"k:\", k\n",
    "    if mu < k:\n",
    "        print \"x has standart uniform distrobution\"\n",
    "    else:\n",
    "        print \"x doesn't have standart uniform distribution\""
   ]
  },
  {
   "cell_type": "code",
   "execution_count": 34,
   "metadata": {},
   "outputs": [
    {
     "name": "stdout",
     "output_type": "stream",
     "text": [
      "mu: 3\n",
      "k: 5.19189620006\n",
      "x has standart uniform distrobution\n"
     ]
    }
   ],
   "source": [
    "is_uniform(n=40, r=20)"
   ]
  },
  {
   "cell_type": "code",
   "execution_count": 35,
   "metadata": {},
   "outputs": [
    {
     "name": "stdout",
     "output_type": "stream",
     "text": [
      "mu: 27\n",
      "k: 34.9259191584\n",
      "x has standart uniform distrobution\n"
     ]
    }
   ],
   "source": [
    "is_uniform(400, 200)"
   ]
  },
  {
   "cell_type": "code",
   "execution_count": 36,
   "metadata": {},
   "outputs": [
    {
     "name": "stdout",
     "output_type": "stream",
     "text": [
      "mu: 274\n",
      "k: 295.522471826\n",
      "x has standart uniform distrobution\n"
     ]
    }
   ],
   "source": [
    "is_uniform(4000, 2000)"
   ]
  },
  {
   "cell_type": "markdown",
   "metadata": {},
   "source": [
    "## Задание 3\n",
    "Используя критерий Смирнова проверить гипотезу,\n",
    "что выборка $\\vec{X} = \\left( X_1, \\dotsc, X_n \\right)$ и выборка $\\vec{Y} = \\left( Y_1, \\dotsc, Y_m \\right)$\n",
    "имеют одно и то же распределение $F \\left( \\cdot \\right)$ --- можно выбрать нормальное, экспоненциальное,\n",
    "равномерное, ....\n",
    "\n",
    "$n = 100, \\, m = 200; \\, n = 1000, \\, m = 2000$"
   ]
  },
  {
   "cell_type": "markdown",
   "metadata": {},
   "source": [
    "### Гипотеза однородности. Критерий Смирнова\n",
    "Есть два вектора наблюдений:\n",
    "$\\vec{X} = \\left( X_1, \\dotsc, X_n \\right)$ и $\\vec{Y} = \\left( Y_1, \\dotsc, Y_m \\right)$.\n",
    "Первому вектору соответствует функция распределения $F_1 \\left( \\cdot \\right)$, второму ---\n",
    "$F_2 \\left( \\cdot \\right)$.\n",
    "Функций распределения мы не знаем.\n",
    "\n",
    "$H_0: \\, F_1 \\left( \\cdot \\right) = F_2 \\left( \\cdot \\right) = F \\left( \\cdot \\right) $ --- гипотеза однородности.\n",
    "\n",
    "Критерий Смирнова работает в предположении, что $F \\left( \\cdot \\right)$ --- непрерывная функция распределения.\n",
    "\n",
    "Обозначим $\\hat{F}_n^{\\left( 1 \\right)} \\left( u \\right)$ и $\\hat{F}_m^{\\left( 2 \\right)}\\left( u\\right)$ ---\n",
    "эмпирические функции распределения, которые соответствуют выборке $\\vec{X}$ и выборке $\\vec{Y}$ соответственно.\n",
    "\n",
    "$$D_{n, m } \\left( \\vec{x}, \\vec{y} \\right) =\n",
    "\\sup \\limits_{-\\infty < u < +\\infty}\n",
    "\\left| \\hat{F}_n^{\\left(1\\right)} \\left( u \\right) - \\hat{F}_m^{\\left( 2\\right)} \\left( u \\right) \\right|.$$\n",
    "\n",
    "**Теорема Смирнова.**\n",
    "Если $F \\left( \\cdot \\right)$ --- это неизвестная, но непрерывная функция распределения, то\n",
    "$$\\lim \\limits_{n \\to \\infty}\n",
    "P \\left\\{ \\sqrt{\\frac{n \\cdot m}{n + m}} \\cdot D_{n, m} \\left( \\vec{X}, \\vec{Y} \\right) < z \\; \\middle| \\;\n",
    "H_0 \\right\\} =\n",
    "K \\left( z \\right) =\n",
    "\\sum \\limits_{k=-\\infty}^{+\\infty} \\left( -1 \\right)^k \\cdot e^{-2z^2 \\cdot k^2},$$\n",
    "где $K \\left( \\cdot \\right)$ --- функция Колморогова.\n",
    "\n",
    "Гипотеза является сложной.\n",
    "\n",
    "**Критерий Смирнова:**\n",
    "\n",
    "1) находим $z_{\\gamma}$ из уравнения $K \\left( z_{\\gamma} \\right) = 1 - \\gamma$, где $\\gamma$ задаём;\n",
    "\n",
    "2) вычисляем $D_{n, m} \\left( \\vec{x}, \\vec{y} \\right)$ и выписываем критическую область\n",
    "$$\\mathbb{Z}_1 = \\left\\{ \\left( \\vec{x}, \\vec{y}\\right): \\, D_{n, m} \\left( \\vec{x}, \\vec{y}\\right) > z_{\\gamma} \\cdot \\sqrt{\\frac{1}{n} + \\frac{1}{m}}\\right\\};$$\n",
    "\n",
    "3) если $\\left( \\vec{x}, \\vec{y} \\right) \\in \\mathbb{Z}_1$, то отсюда следует,\n",
    "что нужно принять альтернативную гипотезу $H_1$.\n",
    "Это означает, что функция распределения отличается от $F \\left( \\cdot \\right)$.\n",
    "\n",
    "$D_{n, m} \\left( \\vec{x}, \\vec{y} \\right) = \\max \\left( D_{n, m}^+, D_{n, m}^- \\right)$, где\n",
    "$$D_{n, m}^+ =\n",
    "\\max \\limits_{1 \\leq k \\leq m}\n",
    "\\left\\{ \\frac{k}{m} - \\hat{F}_n^{\\left( 1 \\right) } \\left( y_{\\left( k \\right) } \\right) \\right\\},$$\n",
    "где $y_{\\left( k \\right)}$ ---\n",
    "значение вариационного ряда для второй выборки $\\vec{Y}: \\, y_{\\left( 1 \\right) }, \\dotsc, y_{\\left( m \\right) }$.\n",
    "$D_{n, m}^- =\n",
    "\\max \\limits_{1 \\leq k \\leq m}\n",
    "\\left\\{ \\hat{F}_n^{\\left( 1 \\right) } \\left( y_{\\left( k \\right) } \\right) - \\frac{k - 1}{m} \\right\\}$.\n",
    "\n",
    "Критерий является состоятельным относительно альтернативной гипотезы $H_1$,\n",
    "то есть что распределения не совпадают.\n",
    "Если бы они совпадали, то $F_1^{-1} \\left( F_2 \\left( u \\right) \\right) = F$.\n",
    "\n",
    "$H_1: \\, F_1^{-1} \\left( F_2 \\left( u \\right) \\right) \\neq u$ на множестве с лебеговой мерой,\n",
    "которая не равна нулю (больше нуля)."
   ]
  },
  {
   "cell_type": "code",
   "execution_count": 57,
   "metadata": {
    "collapsed": true
   },
   "outputs": [],
   "source": [
    "def F_1(sample, u):\n",
    "    return float(len(where(sample <= u)[0])) / len(sample)"
   ]
  },
  {
   "cell_type": "code",
   "execution_count": 62,
   "metadata": {},
   "outputs": [],
   "source": [
    "def have_same_distribution(n, m):\n",
    "    x = normal(size=n)\n",
    "    y = normal(size=m)\n",
    "    z = kolmogi(1 - gamma)\n",
    "    y_variational_series = sorted(y)\n",
    "    D_plus = max((float(k) / m - F_1(y, y_variational_series[k - 1])) for k in range(1, m + 1))\n",
    "    D_minus = max((F_1(y, y_variational_series[k - 1]) - float(k - 1) / m) for k in range(1, m + 1))\n",
    "    D = max(D_plus, D_minus)\n",
    "    print \"D:\", D\n",
    "    critical = z * sqrt(1. / n + 1. / m)\n",
    "    print \"Critical:\", critical\n",
    "    if D < critical:\n",
    "        print \"X and Y have the same distribution\"\n",
    "    else:\n",
    "        print \"X and Y don't have the same distribution\""
   ]
  },
  {
   "cell_type": "code",
   "execution_count": 63,
   "metadata": {},
   "outputs": [
    {
     "name": "stdout",
     "output_type": "stream",
     "text": [
      "D: 0.005\n",
      "Critical: 0.0636390147104\n",
      "X and Y have the same distribution\n"
     ]
    }
   ],
   "source": [
    "have_same_distribution(n=100, m=200)"
   ]
  },
  {
   "cell_type": "code",
   "execution_count": 64,
   "metadata": {},
   "outputs": [
    {
     "name": "stdout",
     "output_type": "stream",
     "text": [
      "D: 0.0005\n",
      "Critical: 0.0201244234534\n",
      "X and Y have the same distribution\n"
     ]
    }
   ],
   "source": [
    "have_same_distribution(n=1000, m=2000)"
   ]
  }
 ],
 "metadata": {
  "kernelspec": {
   "display_name": "Python 2",
   "language": "python",
   "name": "python2"
  },
  "language_info": {
   "codemirror_mode": {
    "name": "ipython",
    "version": 2
   },
   "file_extension": ".py",
   "mimetype": "text/x-python",
   "name": "python",
   "nbconvert_exporter": "python",
   "pygments_lexer": "ipython2",
   "version": "2.7.13"
  }
 },
 "nbformat": 4,
 "nbformat_minor": 2
}
