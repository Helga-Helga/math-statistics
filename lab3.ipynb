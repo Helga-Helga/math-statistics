{
 "cells": [
  {
   "cell_type": "markdown",
   "metadata": {},
   "source": [
    "# Лабораторная работа №3"
   ]
  },
  {
   "cell_type": "code",
   "execution_count": 1,
   "metadata": {
    "collapsed": true
   },
   "outputs": [],
   "source": [
    "from numpy.random import exponential, poisson\n",
    "from numpy import where, sqrt, array, histogram\n",
    "from scipy.stats import norm, chi2"
   ]
  },
  {
   "cell_type": "markdown",
   "metadata": {},
   "source": [
    "Все расчёты вести при $\\gamma = 0.05$."
   ]
  },
  {
   "cell_type": "code",
   "execution_count": 2,
   "metadata": {
    "collapsed": true
   },
   "outputs": [],
   "source": [
    "gamma = 0.05"
   ]
  },
  {
   "cell_type": "markdown",
   "metadata": {},
   "source": [
    "## Задание 1. Проверка гипотезы однородности\n",
    "**A. Критерий пустых блоков.**\n",
    "Генерируем две независимые выборки:\n",
    "$\\vec{X} = \\left( X_1, \\dotsc, X_n \\right)$ и $\\vec{Y} = \\left( Y_1, \\dotsc, Y_m \\right)$,\n",
    "причём $X_i \\sim F_{ \\xi } \\left( u \\right), \\, u \\geq 0$ --- экспоненциальное распределение с параметром $\\alpha$,\n",
    "а $Y_i \\sim F_{\\eta} \\left( u \\right) = 1 - e^{-\\beta \\cdot u}, \\, u \\geq 0$.\n",
    "\n",
    "$n = 500, \\, m = 1000, \\, \\alpha = 1, \\, \\beta = 1.2$.\n",
    "\n",
    "Подтвердится или опровергнится гипотеза?\n",
    "Критерий способный, то есть при увеличении $n$ и $m$ гипотеза должна отброситься.\n",
    "\n",
    "$n = 5000, \\, m = 10000$.\n",
    "\n",
    "Распознает ли этот критерий, что распределение разное?"
   ]
  },
  {
   "cell_type": "markdown",
   "metadata": {
    "collapsed": true
   },
   "source": [
    "### Критерий пустых блоков\n",
    "Гипотеза однородности: $H_0 \\; : \\; F_1 \\left( \\cdot \\right) = F_2 \\left( \\cdot \\right) = F \\left( \\cdot \\right)$,\n",
    "то есть эти выборки построены по одной и той же случайной величине.\n",
    "\n",
    "Строим вариационный ряд\n",
    "$-\\infty <\n",
    "x_{\\left( 1 \\right) } <\n",
    "x_{\\left( 2 \\right)} <\n",
    "x_{\\left( 3 \\right) } <\n",
    "\\dotsc < x_{\\left( n \\right) } <\n",
    "+ \\infty$,\n",
    "который соответствует наблюдениям $\\vec{X}$.\n",
    "$U_1 = \\left( -\\infty, x_{\\left( 1 \\right)} \\right),\n",
    "\\dotsc,\n",
    "U_i = \\left( x_{\\left( i - 1 \\right)}, x_{\\left( i \\right)} \\right),\n",
    "\\dotsc,\n",
    "U_{n+1} = \\left( x_{\\left( n \\right)}, +\\infty \\right), \\,\n",
    "i = \\overline{2, n}$.\n",
    "Точки вариационного ряда разбивают весь промежуток на $n + 1$ часть.\n",
    "Точки второго вариационного ряда попадают в эти блоки.\n",
    "\n",
    "Важно построить $\\mu_0 \\left( n, m \\right)$ --- количество пустых блоков, то есть блоков, которые не содержат ни одной точки (частички) из второй выборки.\n",
    "$\\mu_0 \\left( n, m \\right)$, когда $n, m$ возрастают, имеет ассимптотическое распределение.\n",
    "\n",
    "Функция $F \\left( \\cdot \\right)$ --- это непрерывная функция распределения.\n",
    "Это исключает совпадение точек $\\vec{Y}$ с точками $\\vec{X}$.\n",
    "\n",
    "Если функции распределений совпадают, то точки $\\vec{Y}$ распределены в блоках равномерно.\n",
    "\n",
    "**Теорема.**\n",
    "Неизвестная функция $F \\left( \\cdot \\right)$ --- это непрерывная функция распределения,\n",
    "$n, m \\to \\infty $ таким образом, что\n",
    "$$\\frac{m}{n} \\to \\rho > 0$$\n",
    "($\\rho$ не может быть бесконечностью).\n",
    "\n",
    "Тогда\n",
    "$$\\frac{\\mu_0 \\left( n, m \\right) - a_n}{\\sigma_n} \\sim N \\left( 0, 1 \\right),$$\n",
    "где\n",
    "$$a_n = \\frac{n}{1 + \\rho}, \\,\n",
    "\\sigma_n^2 = \\frac{n \\cdot \\rho^2}{\\left( 1 + \\rho \\right)^3},$$\n",
    "то есть и $\\sigma_n$ возрастает, и $a_n$ возрастает.\n",
    "\n",
    "Задаётся $\\gamma$ --- это ошибка первого рода, критическая область согласно этому критерию\n",
    "$$\\mathbb{Z}_1 =\n",
    "\\left\\{ \\left( \\vec{x}, \\vec{y}\\right) \\, : \\,\n",
    "\\mu_0 \\left( n, m \\right) >\n",
    "\\frac{n}{1 + \\rho} + \\frac{\\rho \\sqrt{n}}{\\left( 1 + \\rho\\right)^{\\frac{3}{2}}} \\cdot z_{\\gamma}\\right\\},$$\n",
    "где $z_{\\gamma}$ --- это решение уравнения $0.5 - \\Phi \\left( z_{\\gamma} \\right) = \\gamma$.\n",
    "\n",
    "\n",
    "Этот критерий способный относительно $H_1$."
   ]
  },
  {
   "cell_type": "code",
   "execution_count": 3,
   "metadata": {
    "collapsed": true
   },
   "outputs": [],
   "source": [
    "def empty_blocks(n, m):\n",
    "    rho = float(m) / n\n",
    "    x = exponential(scale=1, size=n)\n",
    "    y = exponential(scale=1.2, size=m)\n",
    "    x_variational_series = sorted(x)\n",
    "    number_of_y_in_blocks = array([0] * (n + 1), dtype='int64')\n",
    "    for element in y:\n",
    "        if element < x_variational_series[0]:\n",
    "            number_of_y_in_blocks[0] += 1\n",
    "        elif element > x_variational_series[n - 1]:\n",
    "            number_of_y_in_blocks[n] += 1\n",
    "        else:\n",
    "            for i in range(n):\n",
    "                if i < (n - 1) and element > x_variational_series[i] and element < x_variational_series[i + 1]:\n",
    "                    number_of_y_in_blocks[i + 1] += 1\n",
    "    mu = len(where(number_of_y_in_blocks > 0)[0])\n",
    "    print \"mu:\", mu\n",
    "    z = norm.ppf(1 - gamma / 2.)\n",
    "    critical = n / (1 + rho) + rho * sqrt(n) / (1 + rho) ** (3 / 2.) * z\n",
    "    print \"critical:\", critical\n",
    "    if mu > critical:\n",
    "        print \"Distributions are the same\"\n",
    "    else:\n",
    "        print \"Distributions are different\""
   ]
  },
  {
   "cell_type": "code",
   "execution_count": 4,
   "metadata": {},
   "outputs": [
    {
     "name": "stdout",
     "output_type": "stream",
     "text": [
      "mu: 345\n",
      "critical: 183.535350825\n",
      "Distributions are the same\n"
     ]
    }
   ],
   "source": [
    "empty_blocks(500, 1000)"
   ]
  },
  {
   "cell_type": "code",
   "execution_count": 5,
   "metadata": {},
   "outputs": [
    {
     "name": "stdout",
     "output_type": "stream",
     "text": [
      "mu: 3344\n",
      "critical: 1720.01012974\n",
      "Distributions are the same\n"
     ]
    }
   ],
   "source": [
    "empty_blocks(5000, 10000)"
   ]
  },
  {
   "cell_type": "markdown",
   "metadata": {},
   "source": [
    "**Б.$\\chi^2$-критерий.**\n",
    "Генерируем $k$ серий независимых наблюдений\n",
    "$\\vec{X}^{ \\left( i \\right)} = \\left( X_1^{\\left( i \\right)}, \\dotsc, X_{n_i}^{\\left( i \\right) } \\right), \\,\n",
    "i = \\overline{1, k}$.\n",
    "\n",
    "Допустим, что проверяется гипотеза о распределении Пуассона с параметром $2$.\n",
    "\n",
    "$U_i = \\left\\{ i - 1 \\right\\}, \\, i = \\overline{1, r - 1}, \\, U_r = \\left\\{ r, r + 1, \\dotsc \\right\\}$.\n",
    "\n",
    "Гипотеза должна быть подтверждена, когда $k = 3, \\, n_1 = 200, \\, n_2 = 500, \\, n_3 = 800, \\, r = 10$\n",
    "(нужно $r$ выбрать таким, чтобы в каждый промежуток попадало не меньше пяти точек), где $r$ ---\n",
    "количество промежутков.\n",
    "\n",
    "Пусть величина $\\nu$ имеет распределение Пуассона.\n",
    "Оно генерируется следующим образом\n",
    "$$\\nu = \\max \\left\\{ j \\geq 0 \\, : \\, \\prod \\limits_{i=1}^j \\omega_i \\geq e^{-\\lambda }\\right\\},$$\n",
    "где $\\omega_i$ --- равномерно распределённые на $\\left[ 0, 1 \\right]$ случайные величины."
   ]
  },
  {
   "cell_type": "markdown",
   "metadata": {},
   "source": [
    "### Критерий $\\chi^2$\n",
    "Общее количество наблюдений $n = n_1 + \\dotsc + n_k$.\n",
    "\n",
    "Случайная величина принимает $r$ значений: $\\xi_i \\in \\left\\{ a_1, \\dotsc, a_r \\right\\}$,\n",
    "где $i = \\overline{1, k}$.\n",
    "\n",
    "$\\vec{X}^{\\left( 1 \\right)} \\sim \\xi_1\\sim F_1 \\left( \\cdot \\right),\n",
    "\\dotsc,\n",
    "\\vec{X}^{\\left( k \\right)} \\sim \\xi_k \\sim F_k \\left( \\cdot \\right).$\n",
    "Распределение может быть дискретным (конечным, бесконечным), непрерывным (дискретизируем промежуток).\n",
    "\n",
    "Гипотеза $H_0$ состоит в том, что все функции распределения\n",
    "$F_1 \\left( \\cdot \\right) = \\dotsc = F_k \\left( \\cdot \\right) = F \\left( \\cdot \\right)$, то есть нужно проверить, что это всё выборки с одной и той же функцией распределения.\n",
    "На самом деле гипотезу $H_0$ можно записать иначе.\n",
    "\n",
    "$\\xi_i \\sim \\left\\{ p_j^{\\left( i \\right)} \\right\\}, \\, j = \\overline{1, r}, \\, i = \\overline{1, k}$.\n",
    "Тогда $H_0 \\, : \\, p_j^{\\left( i \\right) } = p_j, \\, j = \\overline{1, r}, \\, i = \\overline{1, k}$,\n",
    "то есть гипотеза состоит в том, что распределения не зависят от номера серии $i$.\n",
    "\n",
    "$$\\Delta \\left( \\vec{p}, \\vec{n} \\right) =\n",
    "\\sum \\limits_{i = 1}^k \\sum \\limits_{j = 1}^r\n",
    "\\frac{\\left[ \\nu_j^{\\left( i \\right)} - n_i \\cdot p_j \\right]^2}{n_i \\cdot p_j} =\n",
    "\\sum \\limits_{i=1}^k \\sum \\limits_{j=1}^r \\frac{\\left[ \\nu_j^{\\left( i \\right)}\\right]^2}{n_i \\cdot p_j} - n.$$\n",
    "\n",
    "Проблема состоит в том, что вероятности $p_j$ неизвестны.\n",
    "\n",
    "Применим метод наибольшего правдоподобия для оценки $\\left\\{ p_j \\right\\}$ при условии,\n",
    "что $p_1 + \\dotsc + p_r = 1$.\n",
    "Составляем функцию правдоподобия по всем выборкам\n",
    "$$L \\left( \\vec{p} \\right) =\n",
    "\\prod \\limits_{i=1}^k \\prod \\limits_{j=1}^r p_j^{\\nu_j^{\\left( i \\right)}} \\to \\max \\limits_{\\vec{p}}.$$\n",
    "\n",
    "$$L \\left( \\vec{p} \\right) = \\prod \\limits_{j=1}^r p_j^{\\sum \\limits_{i=1}^k \\nu_j^{\\left( i \\right)}},$$\n",
    "то есть наблюдения $a_j$ суммируются по всем выборкам.\n",
    "Обозначим\n",
    "$$\\nu_j = \\sum \\limits_{i=1}^k \\nu_j^{\\left( i \\right)}.$$\n",
    "Это можно переписать как\n",
    "$L \\left( \\vec{p} \\right) =\n",
    "p_1^{\\nu_1} \\cdot \\dotsc \\cdot p_{r-1}^{\\nu_r - 1} \\cdot \\left( 1 - p_1 - \\cdot - p_{r-1} \\right)^{\\nu_r} \\to\n",
    "\\max \\limits_{\\vec{p}}$,\n",
    "то есть у нас фактически $r - 1$ переменная.\n",
    "\n",
    "Логарифмируем и берём производную\n",
    "$$ln \\, L \\left( \\vec{p} \\right) =\n",
    "\\sum \\limits_{j=1}^{r-1} \\nu_j \\cdot ln \\, p_j + \\nu_r \\cdot ln \\left( 1 - p_1 - \\dotsc - p_{r-1} \\right).$$\n",
    "Берём производную по $p_i$.\n",
    "Будет\n",
    "$$\\frac{\\nu_j}{p_j} - \\frac{\\nu_r}{1 - p_1 - \\dotsc - p_{r-1}} = 0, \\, j = \\overline{1, r - 1}.$$\n",
    "Получается\n",
    "$$\\frac{\\nu_j}{p_j} = \\frac{\\nu_r}{p_r}, \\, j = 1, \\dotsc, r-1,$$\n",
    "то есть это отношение --- константа, оно не зависит от $j$, то есть\n",
    "$$c = \\frac{\\nu_j}{p_j} = \\frac{\\nu_r}{p_r}, \\, j = 1, \\dotsc, r - 1.$$\n",
    "Тогда\n",
    "$$p_j = \\frac{\\nu_j}{c}.$$\n",
    "Тогда\n",
    "$$1 = \\sum \\limits_{j=1}^r p_j = \\frac{1}{c} \\sum \\limits_{j=1^r \\nu_j} = \\frac{n}{c},$$\n",
    "то есть $c = n$.\n",
    "В результате\n",
    "$$p_j = \\frac{\\nu_j}{n} \\, \\left(j = \\overline{1, r} \\right).$$\n",
    "Теперь подставляем в $\\Delta$, и получается, что\n",
    "$$\\Delta \\left(\\vec{p}, \\vec{n} \\right) =\n",
    "\\sum \\limits_{i=1}^k \\sum \\limits_{j=1}^r\n",
    "\\frac{\\left[ \\nu_j^{\\left( i \\right)} - \\frac{n_i \\cdot \\nu_j}{n}\\right]^2}{n_i \\cdot \\nu_j} \\cdot n =\n",
    "\\left[ \\sum \\limits_{i=1}^k \\sum \\limits_{j=1}^r\n",
    "\\frac{\\left[ \\nu_j^{\\left( i \\right)} \\right]^2}{n_i \\cdot \\nu_j} - 1 \\right] \\cdot n.$$\n",
    "**Теорема.**\n",
    "Если оценка для вектора $\\vec{p}$ построена методом наибольшего правдоподобия, то\n",
    "$$\\lim \\limits_{n \\to \\infty } P \\left\\{ \\Delta \\left( \\vec{p}, \\vec{n} \\right) < z \\; \\middle| \\; H_0\\right\\} =\n",
    "T_{\\left( r-1 \\right) \\cdot \\left( k-1 \\right) } \\left( z \\right) = 1 - \\gamma.$$\n",
    "Отсюда находится $z_{\\gamma}$.\n",
    "Критическая область $\\mathbb{Z}_1$ --- это множество наблюдений (векторов):\n",
    "$\\mathbb{Z}_1 =\n",
    "\\left\\{ \\left( \\vec{x}^{\\left( 1 \\right)}, \\dotsc, \\vec{x^{\\left( k \\right)}} \\right) \\, : \\,\n",
    "\\Delta \\left( \\vec{p}, \\vec{n}\\right) > z_{\\gamma}\\right\\}$.\n",
    "Критерий является способным, то есть при $n \\to \\infty$ мы не можем ошибиться и принять неверную гипотезу."
   ]
  },
  {
   "cell_type": "code",
   "execution_count": 6,
   "metadata": {},
   "outputs": [
    {
     "name": "stdout",
     "output_type": "stream",
     "text": [
      "Delta: 4.25833216408\n",
      "z: 9.48772903678\n",
      "Samples have the same distribution\n"
     ]
    }
   ],
   "source": [
    "n1 = 200\n",
    "n2 = 500\n",
    "n3 = 800\n",
    "n = n1 + n2 + n3\n",
    "r = 3\n",
    "x1 = poisson(lam=2, size=n1)\n",
    "x2 = poisson(lam=2, size=n2)\n",
    "x3 = poisson(lam=2, size=n3)\n",
    "nu1 = histogram(x1, bins=r)[0]\n",
    "nu2 = histogram(x2, bins=r)[0]\n",
    "nu3 = histogram(x3, bins=r)[0]\n",
    "nu = array([sum(x) for x in zip(nu1, nu2, nu3)], dtype='float64')\n",
    "delta = 0\n",
    "for j in range(r):\n",
    "    delta += nu1[j] ** 2 / (n1 * nu[j]) + nu2[j] ** 2 / (n2 * nu[j]) + nu3[j] ** 2 / (n3 * nu[j])\n",
    "delta -= 1\n",
    "delta *= n\n",
    "z = chi2.ppf(1 - gamma, 2 * (r - 1))\n",
    "print \"Delta:\", delta\n",
    "print \"z:\", z\n",
    "if delta > z:\n",
    "    print \"Samples have different distribution\"\n",
    "else:\n",
    "    print \"Samples have the same distribution\""
   ]
  },
  {
   "cell_type": "markdown",
   "metadata": {},
   "source": [
    "## Задание 2. Проверка гипотезы независимости\n",
    "**А. Критерий $\\chi^2.$**\n",
    "Генерируем выборку\n",
    "$\\left( \\vec{X}, \\vec{Y} \\right) = \\left\\{ \\left( X_1, Y_1\\right), \\dotsc, \\left( X_n, Y_n \\right) \\right\\}$,\n",
    "где $X_i \\sim Pois \\left( 2 \\right), \\, Y_i \\sim Pois \\left( 5 \\right), \\, U_i$ те же, что и во втором задании,\n",
    "а $V_i = \\left\\{ i - 1 \\right\\}, \\, i = \\overline{1, k - 1}$, а $U_k = \\left\\{ k, k + 1, \\dotsc \\right\\}$.\n",
    "\n",
    "$r = 8, \\, k = 15, \\ n = 1000$ ($r$ и $k$ нужно выбирать такими, чтобы ни одной ячейки не было пустой)."
   ]
  },
  {
   "cell_type": "markdown",
   "metadata": {},
   "source": [
    "### $\\chi^2$-критерий\n",
    "Он применяется как для дискретных случайных величин, так и для непрерывных.\n",
    "\n",
    "Если $\\xi\\, : \\, a_1, \\dotsc, a_r, \\, \\eta \\, : \\, b_1, \\dotsc, b_k$, то можем применить $\\chi^2$-критерий.\n",
    "\n",
    "Если случайная величина непрерывна, то разбиваем $\\mathbb{R}$ на области.\n",
    "\n",
    "Каждая из областей должна принимать хотя бы $5$ значений.\n",
    "\n",
    "$p_{ij} = P \\left\\{ \\xi = a_i, \\eta = b_j \\right\\}, \\, i = \\overline{1, r}, \\, j = \\overline{1,k}$.\n",
    "\n",
    "$H_0 \\, : \\, p_{ij} = p_i^{\\left( 1 \\right)} \\cdot p_j^{\\left( 2 \\right)} \\,\n",
    "\\exists \\left\\{ p_i^{\\left( 1 \\right)} \\right\\}, \\, \\left\\{p_j^{\\left( 2 \\right)} \\right\\}$.\n",
    "Дискретные случайные величины будут независимыми тогда и только тогда, когда их совместная вероятность равна произведению их вероятностей.\n",
    "$$\\sum \\limits_{i=1}^n p_i^{\\left( 1 \\right)} = 1, \\, \\sum \\limits_{j=1}^k p_{j}^{\\left( 2 \\right) } = 1.$$\n",
    "Когда применяют этот метод, строят матрицу смежности.\n",
    "Она выглядит следующим образом\n",
    "\n",
    "\n",
    "|$\\xi / \\eta$|$b_1$|$b_2$|$\\dotsc$|$b_k$|Сумма|\n",
    "|-----|-----|-----|--------|-----|-----|\n",
    "|$a_1$|$\\nu_{11}$|$\\nu_{12}$|$\\dotsc$|$\\nu_{1k}$|$\\nu_{1\\cdot}$|\n",
    "|$a_2$|$\\nu_{21}$|$\\nu_{22}$|$\\dotsc$|$\\nu_{2k}$|$\\nu_{2\\cdot}$|\n",
    "|$\\dotsc$|$\\dotsc$|$\\dotsc$|$\\dotsc$|$\\dotsc$|$\\dotsc$|\n",
    "|$a_r$|$\\nu_{r1}$|$\\nu_{r2}$|$\\dotsc$|$\\nu_{rk}$|$\\nu_{r\\cdot}$|\n",
    "|Сумма|$\\nu_{\\cdot 1}$|$\\nu_{\\cdot 2}$|$\\dotsc$|$\\nu_{\\cdot k}$|$n$|\n",
    "\n",
    "$\\nu_{1 \\cdot }$ означает, что это сумма по второму индексу.\n",
    "\n",
    "$\\nu{\\cdot 1}$ означает, что сумма по первому индексу.\n",
    "\n",
    "$n$ --- общее количество наблюдений.\n",
    "\n",
    "$$\\sum \\limits_{i=1}^r \\nu_{i \\cdot} = n, \\, \\sum \\limits{j=1}^r \\nu_{\\cdot k} = n.$$\n",
    "\n",
    "Составляем сумму $\\Delta \\left( \\vec{p}^{\\left( 1 \\right)}, \\vec{p}^{\\left( 2 \\right)} \\right)$,\n",
    "где $\\vec{p}^{\\left( 1 \\right) } = \\left( p_1^{\\left( 1 \\right)}, \\dotsc, p_r^{\\left( 1 \\right)}\\right)$,\n",
    "а $\\vec{p}^{\\left( 2 \\right) } = \\left( p_1^{\\left( 2 \\right)}, \\dotsc, p_k^{\\left( 2 \\right)}\\right)$.\n",
    "$$\\Delta_n \\left( \\vec{p}^{\\left( 1 \\right)}, \\vec{p}^{\\left( 2 \\right)} \\right) =\n",
    "\\sum \\limits_{i=1}^r \\sum \\limits_{j=1}^k\n",
    "\\frac{\\left( \\nu_{ij} - n \\cdot p_i^{\\left( 1 \\right)} \\cdot p_j^{\\left( 2 \\right)}\\right)^2}{n \\cdot p_i^{\\left( 1 \\right) } \\cdot p_j^{\\left( 2 \\right)}}=\n",
    "\\sum \\limits_{i=1}^r \\sum \\limits_{j=1}^k\n",
    "\\frac{\\nu_{ij}^2}{n \\cdot p_i^{\\left( 1 \\right)} \\cdot p_j^{\\left( 2 \\right)}} - n.$$\n",
    "В этой сумме неизвестны $p_i^{\\left( 1 \\right)}$ и $p_j^{\\left( 2 \\right)}$.\n",
    "\n",
    "Находим $p_i^{\\left( 1 \\right)}$ и $p_j^{\\left( 2 \\right)}$ методом наибольшего правдоподобия.\n",
    "\n",
    "Составляем функцию правдоподобия, логарифмируем, берём производную, находим её максимум и подставляем в $\\Delta$.\n",
    "\n",
    "Функция правдоподобия имеет вид\n",
    "$$L \\left( \\vec{p}^{\\left( 1 \\right)}, \\vec{p}^{\\left( 2 \\right) } \\right) =\n",
    "c \\prod \\limits_{i=1}^r \\prod \\limits_{j=1}^k\n",
    "\\left[ p_i^{\\left( 1 \\right)} \\cdot p_j^{\\left( 2 \\right)}\\right]^{\\nu_{ij}} \\to\n",
    "\\max \\limits_{\\vec{p}^{\\left( 1 \\right)}, \\vec{p}^{\\left( 2 \\right)}}.$$\n",
    "Можно это произведение немного упростить.\n",
    "Приходим к тому, что будем использовать матрицу смежности\n",
    "$$L \\left( \\vec{p}^{\\left( 1 \\right)}, \\vec{p}^{\\left( 2 \\right) } \\right) =\n",
    "c \\prod \\limits_{i=1}^r \\prod \\limits_{j=1}^k \\left[ p_i^{\\left( 1 \\right)} \\right]^{\\nu_{ij}}\n",
    "\\prod \\limits_{i=1}^r \\prod \\limits_{j=1}^k \\left[ p_j^{\\left( 2 \\right)}\\right]^{\\nu_{ij}} =\n",
    "\\prod \\limits_{i=1}^r \\left[ p_i^{\\left( 1 \\right)} \\right]^{\\nu_{i \\cdot }}\n",
    "\\prod \\limits_{j=1}^k \\left[ p_j^{\\left( 2 \\right)} \\right]^{\\nu_{\\cdot j}} \\cdot c \\to \\max.$$\n",
    "Оптимальные значения достигаются, когда\n",
    "$$\\hat{p}_i^{\\left( 1 \\right)} = \\frac{\\nu_{i \\cdot }}{n}, \\, i = \\overline{1, r},$$\n",
    "а\n",
    "$$\\hat{p}_j^{\\left( 2 \\right)} = \\frac{\\nu_{\\cdot j}}{n}, \\, j = \\overline{1, k}.$$\n",
    "Нужно эти вероятности подставить в $\\Delta$:\n",
    "$$\\Delta \\left( \\vec{p}^{\\left( 1 \\right)}, \\vec{p}^{\\left( 2 \\right) } \\right) =\n",
    "\\sum \\limits_{i=1}^r \\sum \\limits_{j=1}^k\n",
    "\\frac{\\left( \\nu_{ij} - \\frac{\\nu_{i \\cdot } \\cdot \\nu_{\\cdot j}}{n^2} \\cdot n\\right)^2}{\\nu_{i\\cdot } \\cdot \\nu_{\\cdot j}} \\cdot n^2 =\n",
    "n \\cdot\n",
    "\\left[ \\sum \\limits_{i=1}^r \\sum \\limits_{j=1}^k \\frac{\\nu_{ij}^2}{\\nu_{i\\cdot } \\cdot \\nu_{\\cdot j}} - 1\\right].$$\n",
    "**Теорема.**\n",
    "Если применяется метод наибольшего правдоподобия для оценки параметров, то\n",
    "$$\\lim \\limits_{n \\to \\infty } P \\left\\{\n",
    "\\Delta_n \\left( \\vec{p}^{\\left( 1 \\right)}, \\vec{p}^{\\left( 2 \\right) } \\right) < z \\; \\middle| ; H_0\n",
    "\\right\\} = T_{\\left( r - 1 \\right) \\cdot \\left( k - 1 \\right)} \\left( z \\right) = 1 - \\gamma.$$\n",
    "Критическая область\n",
    "$\\mathbb{Z}_1 =\n",
    "\\left\\{ \\left( \\vec{x}, \\vec{y} \\right) \\, : \\, \\Delta_n \\left( \\cdot \\right) > z_{\\gamma }\\right\\}$.\n",
    "\n",
    "Этот критерий имеет свойство способности относительно альтернативной гипотезы, что случайные величины зависимы."
   ]
  },
  {
   "cell_type": "code",
   "execution_count": 7,
   "metadata": {},
   "outputs": [
    {
     "name": "stdout",
     "output_type": "stream",
     "text": [
      "Delta: 2.85328322093\n",
      "z: 18.3070380533\n",
      "Samples are independent\n"
     ]
    }
   ],
   "source": [
    "r = 3\n",
    "k = 6\n",
    "n = 1000\n",
    "samples = array([(poisson(lam=2), poisson(lam=5)) for i in range(n)], dtype='float64')\n",
    "len_interval_x = (samples[:,0].max() - samples[:,0].min() + 1.) / r\n",
    "len_interval_y = (samples[:,1].max() - samples[:,1].min() + 1.) / k\n",
    "nu = array([[sum(\n",
    "    (samples[:,0] < samples[:,0].min() + len_interval_x * (i + 1)) &\n",
    "    (samples[:,0] >= samples[:,0].min() + len_interval_x * (i)) &\n",
    "    (samples[:,1] < samples[:,1].min() + len_interval_y * (j + 1)) &\n",
    "    (samples[:,1] >= samples[:,1].min() + len_interval_y * (j))\n",
    ") for i in range(r)] for j in range(k)], dtype='float64')\n",
    "delta = 0\n",
    "for i, row in enumerate(nu):\n",
    "    for j, cell in enumerate(row):\n",
    "        delta += (cell ** 2) / (nu[i].sum() * nu[:,j].sum())\n",
    "delta -= 1\n",
    "delta *= n\n",
    "z = chi2.ppf(1 - gamma, (k - 1) * (r - 1))\n",
    "print \"Delta:\", delta\n",
    "print \"z:\", z\n",
    "if delta > z:\n",
    "    print \"Samples are dependent\"\n",
    "else:\n",
    "    print \"Samples are independent\""
   ]
  }
 ],
 "metadata": {
  "kernelspec": {
   "display_name": "Python 2",
   "language": "python",
   "name": "python2"
  },
  "language_info": {
   "codemirror_mode": {
    "name": "ipython",
    "version": 2
   },
   "file_extension": ".py",
   "mimetype": "text/x-python",
   "name": "python",
   "nbconvert_exporter": "python",
   "pygments_lexer": "ipython2",
   "version": "2.7.13"
  }
 },
 "nbformat": 4,
 "nbformat_minor": 2
}
